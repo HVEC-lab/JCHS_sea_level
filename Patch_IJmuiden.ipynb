{
 "cells": [
  {
   "cell_type": "markdown",
   "metadata": {},
   "source": [
    "<figure>\n",
    "  <IMG SRC=\"Logo.png\"  WIDTH=150 ALIGN=\"right\">\n",
    "</figure>\n",
    "\n",
    "## Projections of mean sea level and tides<br>\n",
    "### Patching IJmuiden\n",
    "<b>Prepared by: H.G. Voortman</b>\n"
   ]
  },
  {
   "cell_type": "markdown",
   "metadata": {},
   "source": [
    "<figure>\n",
    "    <IMG SRC=\"https://www.python.org/static/community_logos/python-powered-w-200x80.png\"  WIDTH=100 ALIGN=\"right\">\n",
    "</figure>\n",
    "\n",
    "#### Description\n",
    "- Showing examples of effects in the North Sea"
   ]
  },
  {
   "cell_type": "markdown",
   "metadata": {},
   "source": [
    "#### References\n",
    "- Provided in report"
   ]
  },
  {
   "cell_type": "markdown",
   "metadata": {},
   "source": [
    "#### Packages"
   ]
  },
  {
   "cell_type": "code",
   "execution_count": 17,
   "metadata": {},
   "outputs": [],
   "source": [
    "# General packages\n",
    "import pandas as pd\n",
    "import matplotlib.pyplot as plt\n",
    "import sqlite3 as sq\n",
    "import numpy as np\n",
    "import scipy.signal as signal\n",
    "import datetime as dt"
   ]
  },
  {
   "cell_type": "code",
   "execution_count": 18,
   "metadata": {},
   "outputs": [],
   "source": [
    "# Settings\n",
    "plt.rcParams['axes.grid'] = True"
   ]
  },
  {
   "cell_type": "markdown",
   "metadata": {},
   "source": [
    "#### Connect database and import data"
   ]
  },
  {
   "cell_type": "code",
   "execution_count": 19,
   "metadata": {},
   "outputs": [],
   "source": [
    "# Connect database\n",
    "conn_str = os.getenv('DATAPATH') + 'RWS_processed.db'\n",
    "cnxn = sq.connect(conn_str, detect_types = True)"
   ]
  },
  {
   "cell_type": "code",
   "execution_count": 20,
   "metadata": {},
   "outputs": [
    {
     "data": {
      "text/html": [
       "<div>\n",
       "<style scoped>\n",
       "    .dataframe tbody tr th:only-of-type {\n",
       "        vertical-align: middle;\n",
       "    }\n",
       "\n",
       "    .dataframe tbody tr th {\n",
       "        vertical-align: top;\n",
       "    }\n",
       "\n",
       "    .dataframe thead th {\n",
       "        text-align: right;\n",
       "    }\n",
       "</style>\n",
       "<table border=\"1\" class=\"dataframe\">\n",
       "  <thead>\n",
       "    <tr style=\"text-align: right;\">\n",
       "      <th></th>\n",
       "      <th>type</th>\n",
       "      <th>name</th>\n",
       "      <th>tbl_name</th>\n",
       "      <th>rootpage</th>\n",
       "      <th>sql</th>\n",
       "    </tr>\n",
       "  </thead>\n",
       "  <tbody>\n",
       "    <tr>\n",
       "      <th>0</th>\n",
       "      <td>table</td>\n",
       "      <td>const_yr</td>\n",
       "      <td>const_yr</td>\n",
       "      <td>2</td>\n",
       "      <td>CREATE TABLE \"const_yr\" (\\n\"tijd\" TIMESTAMP,\\n...</td>\n",
       "    </tr>\n",
       "    <tr>\n",
       "      <th>1</th>\n",
       "      <td>table</td>\n",
       "      <td>timeseries</td>\n",
       "      <td>timeseries</td>\n",
       "      <td>3</td>\n",
       "      <td>CREATE TABLE \"timeseries\" (\\n\"index\" INTEGER,\\...</td>\n",
       "    </tr>\n",
       "    <tr>\n",
       "      <th>2</th>\n",
       "      <td>table</td>\n",
       "      <td>const_mnth</td>\n",
       "      <td>const_mnth</td>\n",
       "      <td>4</td>\n",
       "      <td>CREATE TABLE \"const_mnth\" (\\n\"tijd\" TIMESTAMP,...</td>\n",
       "    </tr>\n",
       "    <tr>\n",
       "      <th>3</th>\n",
       "      <td>index</td>\n",
       "      <td>ix_const_yr_tijd_naam_level_2</td>\n",
       "      <td>const_yr</td>\n",
       "      <td>5</td>\n",
       "      <td>CREATE INDEX \"ix_const_yr_tijd_naam_level_2\"ON...</td>\n",
       "    </tr>\n",
       "    <tr>\n",
       "      <th>4</th>\n",
       "      <td>index</td>\n",
       "      <td>ix_timeseries_index</td>\n",
       "      <td>timeseries</td>\n",
       "      <td>6</td>\n",
       "      <td>CREATE INDEX \"ix_timeseries_index\"ON \"timeseri...</td>\n",
       "    </tr>\n",
       "    <tr>\n",
       "      <th>5</th>\n",
       "      <td>index</td>\n",
       "      <td>ix_const_mnth_tijd_naam_level_2</td>\n",
       "      <td>const_mnth</td>\n",
       "      <td>7</td>\n",
       "      <td>CREATE INDEX \"ix_const_mnth_tijd_naam_level_2\"...</td>\n",
       "    </tr>\n",
       "  </tbody>\n",
       "</table>\n",
       "</div>"
      ],
      "text/plain": [
       "    type                             name    tbl_name  rootpage  \\\n",
       "0  table                         const_yr    const_yr         2   \n",
       "1  table                       timeseries  timeseries         3   \n",
       "2  table                       const_mnth  const_mnth         4   \n",
       "3  index    ix_const_yr_tijd_naam_level_2    const_yr         5   \n",
       "4  index              ix_timeseries_index  timeseries         6   \n",
       "5  index  ix_const_mnth_tijd_naam_level_2  const_mnth         7   \n",
       "\n",
       "                                                 sql  \n",
       "0  CREATE TABLE \"const_yr\" (\\n\"tijd\" TIMESTAMP,\\n...  \n",
       "1  CREATE TABLE \"timeseries\" (\\n\"index\" INTEGER,\\...  \n",
       "2  CREATE TABLE \"const_mnth\" (\\n\"tijd\" TIMESTAMP,...  \n",
       "3  CREATE INDEX \"ix_const_yr_tijd_naam_level_2\"ON...  \n",
       "4  CREATE INDEX \"ix_timeseries_index\"ON \"timeseri...  \n",
       "5  CREATE INDEX \"ix_const_mnth_tijd_naam_level_2\"...  "
      ]
     },
     "execution_count": 20,
     "metadata": {},
     "output_type": "execute_result"
    }
   ],
   "source": [
    "pd.read_sql('SELECT * FROM sqlite_master', cnxn)"
   ]
  },
  {
   "cell_type": "code",
   "execution_count": 21,
   "metadata": {},
   "outputs": [],
   "source": [
    "# Read table with observed water levels; complete years only\n",
    "sql = (\n",
    "    \"SELECT naam, tijd, z0, \"\n",
    "    \"M2_ampl as M2, S2_ampl as S2, N2_ampl as N2, \"\n",
    "    \"K2_ampl as K2, O1_ampl as O1, K1_ampl as K1 \"\n",
    "    \"FROM const_mnth \"\n",
    "    \"WHERE (naam IN ('IJmuiden Noordersluis', 'IJmuiden buitenhaven')) \"\n",
    "    \"AND z0 < 100 \"\n",
    "    \"AND z0 > -100\"\n",
    ")\n",
    "df = pd.read_sql(sql, cnxn) #.groupby('YEAR').mean()"
   ]
  },
  {
   "cell_type": "code",
   "execution_count": 22,
   "metadata": {},
   "outputs": [],
   "source": [
    "df['year'] = df['tijd'].dt.year + (df['tijd'].dt.month - 0.5)/12"
   ]
  },
  {
   "cell_type": "code",
   "execution_count": 23,
   "metadata": {},
   "outputs": [],
   "source": [
    "#df.set_index(keys = 'year', inplace = True, drop = True)"
   ]
  },
  {
   "cell_type": "code",
   "execution_count": 24,
   "metadata": {},
   "outputs": [
    {
     "data": {
      "text/html": [
       "<div>\n",
       "<style scoped>\n",
       "    .dataframe tbody tr th:only-of-type {\n",
       "        vertical-align: middle;\n",
       "    }\n",
       "\n",
       "    .dataframe tbody tr th {\n",
       "        vertical-align: top;\n",
       "    }\n",
       "\n",
       "    .dataframe thead th {\n",
       "        text-align: right;\n",
       "    }\n",
       "</style>\n",
       "<table border=\"1\" class=\"dataframe\">\n",
       "  <thead>\n",
       "    <tr style=\"text-align: right;\">\n",
       "      <th></th>\n",
       "      <th>naam</th>\n",
       "      <th>tijd</th>\n",
       "      <th>z0</th>\n",
       "      <th>M2</th>\n",
       "      <th>S2</th>\n",
       "      <th>N2</th>\n",
       "      <th>K2</th>\n",
       "      <th>O1</th>\n",
       "      <th>K1</th>\n",
       "      <th>year</th>\n",
       "    </tr>\n",
       "  </thead>\n",
       "  <tbody>\n",
       "    <tr>\n",
       "      <th>0</th>\n",
       "      <td>IJmuiden Noordersluis</td>\n",
       "      <td>1883-03-31</td>\n",
       "      <td>-0.559913</td>\n",
       "      <td>37.121192</td>\n",
       "      <td>178.491719</td>\n",
       "      <td>16.847679</td>\n",
       "      <td>157.093411</td>\n",
       "      <td>1.990161</td>\n",
       "      <td>19.123938</td>\n",
       "      <td>1883.208333</td>\n",
       "    </tr>\n",
       "    <tr>\n",
       "      <th>1</th>\n",
       "      <td>IJmuiden Noordersluis</td>\n",
       "      <td>1883-04-30</td>\n",
       "      <td>0.742275</td>\n",
       "      <td>63.140369</td>\n",
       "      <td>285.910235</td>\n",
       "      <td>29.223009</td>\n",
       "      <td>250.637296</td>\n",
       "      <td>2.596075</td>\n",
       "      <td>30.651787</td>\n",
       "      <td>1883.291667</td>\n",
       "    </tr>\n",
       "    <tr>\n",
       "      <th>2</th>\n",
       "      <td>IJmuiden Noordersluis</td>\n",
       "      <td>1883-05-31</td>\n",
       "      <td>0.058124</td>\n",
       "      <td>69.124540</td>\n",
       "      <td>305.069118</td>\n",
       "      <td>32.149933</td>\n",
       "      <td>268.922112</td>\n",
       "      <td>3.095943</td>\n",
       "      <td>38.241312</td>\n",
       "      <td>1883.375000</td>\n",
       "    </tr>\n",
       "    <tr>\n",
       "      <th>3</th>\n",
       "      <td>IJmuiden Noordersluis</td>\n",
       "      <td>1883-06-30</td>\n",
       "      <td>-0.260243</td>\n",
       "      <td>16.865638</td>\n",
       "      <td>101.631199</td>\n",
       "      <td>7.032632</td>\n",
       "      <td>90.968324</td>\n",
       "      <td>1.249140</td>\n",
       "      <td>17.824029</td>\n",
       "      <td>1883.458333</td>\n",
       "    </tr>\n",
       "    <tr>\n",
       "      <th>4</th>\n",
       "      <td>IJmuiden Noordersluis</td>\n",
       "      <td>1883-07-31</td>\n",
       "      <td>-0.758988</td>\n",
       "      <td>53.234340</td>\n",
       "      <td>263.956377</td>\n",
       "      <td>22.785662</td>\n",
       "      <td>234.229415</td>\n",
       "      <td>1.910453</td>\n",
       "      <td>23.732891</td>\n",
       "      <td>1883.541667</td>\n",
       "    </tr>\n",
       "    <tr>\n",
       "      <th>...</th>\n",
       "      <td>...</td>\n",
       "      <td>...</td>\n",
       "      <td>...</td>\n",
       "      <td>...</td>\n",
       "      <td>...</td>\n",
       "      <td>...</td>\n",
       "      <td>...</td>\n",
       "      <td>...</td>\n",
       "      <td>...</td>\n",
       "      <td>...</td>\n",
       "    </tr>\n",
       "    <tr>\n",
       "      <th>1917</th>\n",
       "      <td>IJmuiden buitenhaven</td>\n",
       "      <td>2020-11-30</td>\n",
       "      <td>0.063173</td>\n",
       "      <td>0.642552</td>\n",
       "      <td>0.133701</td>\n",
       "      <td>0.156303</td>\n",
       "      <td>0.262241</td>\n",
       "      <td>0.079634</td>\n",
       "      <td>0.085164</td>\n",
       "      <td>2020.875000</td>\n",
       "    </tr>\n",
       "    <tr>\n",
       "      <th>1918</th>\n",
       "      <td>IJmuiden Noordersluis</td>\n",
       "      <td>2020-12-31</td>\n",
       "      <td>0.114366</td>\n",
       "      <td>0.671322</td>\n",
       "      <td>0.153923</td>\n",
       "      <td>0.076994</td>\n",
       "      <td>0.067959</td>\n",
       "      <td>0.129459</td>\n",
       "      <td>0.169528</td>\n",
       "      <td>2020.958333</td>\n",
       "    </tr>\n",
       "    <tr>\n",
       "      <th>1919</th>\n",
       "      <td>IJmuiden buitenhaven</td>\n",
       "      <td>2020-12-31</td>\n",
       "      <td>0.064727</td>\n",
       "      <td>0.662873</td>\n",
       "      <td>0.141156</td>\n",
       "      <td>0.077562</td>\n",
       "      <td>0.061875</td>\n",
       "      <td>0.130994</td>\n",
       "      <td>0.162539</td>\n",
       "      <td>2020.958333</td>\n",
       "    </tr>\n",
       "    <tr>\n",
       "      <th>1920</th>\n",
       "      <td>IJmuiden Noordersluis</td>\n",
       "      <td>2021-01-31</td>\n",
       "      <td>0.129603</td>\n",
       "      <td>0.680871</td>\n",
       "      <td>0.067418</td>\n",
       "      <td>0.073015</td>\n",
       "      <td>0.082632</td>\n",
       "      <td>0.107565</td>\n",
       "      <td>0.096975</td>\n",
       "      <td>2021.041667</td>\n",
       "    </tr>\n",
       "    <tr>\n",
       "      <th>1921</th>\n",
       "      <td>IJmuiden buitenhaven</td>\n",
       "      <td>2021-01-31</td>\n",
       "      <td>0.087416</td>\n",
       "      <td>0.678589</td>\n",
       "      <td>0.059206</td>\n",
       "      <td>0.073762</td>\n",
       "      <td>0.089475</td>\n",
       "      <td>0.109127</td>\n",
       "      <td>0.099423</td>\n",
       "      <td>2021.041667</td>\n",
       "    </tr>\n",
       "  </tbody>\n",
       "</table>\n",
       "<p>1922 rows × 10 columns</p>\n",
       "</div>"
      ],
      "text/plain": [
       "                       naam       tijd        z0         M2          S2  \\\n",
       "0     IJmuiden Noordersluis 1883-03-31 -0.559913  37.121192  178.491719   \n",
       "1     IJmuiden Noordersluis 1883-04-30  0.742275  63.140369  285.910235   \n",
       "2     IJmuiden Noordersluis 1883-05-31  0.058124  69.124540  305.069118   \n",
       "3     IJmuiden Noordersluis 1883-06-30 -0.260243  16.865638  101.631199   \n",
       "4     IJmuiden Noordersluis 1883-07-31 -0.758988  53.234340  263.956377   \n",
       "...                     ...        ...       ...        ...         ...   \n",
       "1917   IJmuiden buitenhaven 2020-11-30  0.063173   0.642552    0.133701   \n",
       "1918  IJmuiden Noordersluis 2020-12-31  0.114366   0.671322    0.153923   \n",
       "1919   IJmuiden buitenhaven 2020-12-31  0.064727   0.662873    0.141156   \n",
       "1920  IJmuiden Noordersluis 2021-01-31  0.129603   0.680871    0.067418   \n",
       "1921   IJmuiden buitenhaven 2021-01-31  0.087416   0.678589    0.059206   \n",
       "\n",
       "             N2          K2        O1         K1         year  \n",
       "0     16.847679  157.093411  1.990161  19.123938  1883.208333  \n",
       "1     29.223009  250.637296  2.596075  30.651787  1883.291667  \n",
       "2     32.149933  268.922112  3.095943  38.241312  1883.375000  \n",
       "3      7.032632   90.968324  1.249140  17.824029  1883.458333  \n",
       "4     22.785662  234.229415  1.910453  23.732891  1883.541667  \n",
       "...         ...         ...       ...        ...          ...  \n",
       "1917   0.156303    0.262241  0.079634   0.085164  2020.875000  \n",
       "1918   0.076994    0.067959  0.129459   0.169528  2020.958333  \n",
       "1919   0.077562    0.061875  0.130994   0.162539  2020.958333  \n",
       "1920   0.073015    0.082632  0.107565   0.096975  2021.041667  \n",
       "1921   0.073762    0.089475  0.109127   0.099423  2021.041667  \n",
       "\n",
       "[1922 rows x 10 columns]"
      ]
     },
     "execution_count": 24,
     "metadata": {},
     "output_type": "execute_result"
    }
   ],
   "source": [
    "df"
   ]
  },
  {
   "cell_type": "code",
   "execution_count": 25,
   "metadata": {},
   "outputs": [],
   "source": [
    "df2 = df.pivot(index = 'year', columns = 'naam', values = 'z0')\n",
    "df2.dropna(how = 'any', inplace = True)"
   ]
  },
  {
   "cell_type": "code",
   "execution_count": 26,
   "metadata": {},
   "outputs": [
    {
     "data": {
      "text/html": [
       "<div>\n",
       "<style scoped>\n",
       "    .dataframe tbody tr th:only-of-type {\n",
       "        vertical-align: middle;\n",
       "    }\n",
       "\n",
       "    .dataframe tbody tr th {\n",
       "        vertical-align: top;\n",
       "    }\n",
       "\n",
       "    .dataframe thead th {\n",
       "        text-align: right;\n",
       "    }\n",
       "</style>\n",
       "<table border=\"1\" class=\"dataframe\">\n",
       "  <thead>\n",
       "    <tr style=\"text-align: right;\">\n",
       "      <th>naam</th>\n",
       "      <th>IJmuiden Noordersluis</th>\n",
       "      <th>IJmuiden buitenhaven</th>\n",
       "    </tr>\n",
       "    <tr>\n",
       "      <th>year</th>\n",
       "      <th></th>\n",
       "      <th></th>\n",
       "    </tr>\n",
       "  </thead>\n",
       "  <tbody>\n",
       "    <tr>\n",
       "      <th>1981.041667</th>\n",
       "      <td>0.056882</td>\n",
       "      <td>0.017105</td>\n",
       "    </tr>\n",
       "    <tr>\n",
       "      <th>1981.125000</th>\n",
       "      <td>-0.101966</td>\n",
       "      <td>-0.146550</td>\n",
       "    </tr>\n",
       "    <tr>\n",
       "      <th>1981.208333</th>\n",
       "      <td>0.025028</td>\n",
       "      <td>-0.005727</td>\n",
       "    </tr>\n",
       "    <tr>\n",
       "      <th>1981.291667</th>\n",
       "      <td>-0.168538</td>\n",
       "      <td>-0.203802</td>\n",
       "    </tr>\n",
       "    <tr>\n",
       "      <th>1981.375000</th>\n",
       "      <td>-0.029040</td>\n",
       "      <td>-0.068996</td>\n",
       "    </tr>\n",
       "    <tr>\n",
       "      <th>...</th>\n",
       "      <td>...</td>\n",
       "      <td>...</td>\n",
       "    </tr>\n",
       "    <tr>\n",
       "      <th>2020.708333</th>\n",
       "      <td>0.141734</td>\n",
       "      <td>0.085939</td>\n",
       "    </tr>\n",
       "    <tr>\n",
       "      <th>2020.791667</th>\n",
       "      <td>0.175867</td>\n",
       "      <td>0.119310</td>\n",
       "    </tr>\n",
       "    <tr>\n",
       "      <th>2020.875000</th>\n",
       "      <td>0.114956</td>\n",
       "      <td>0.063173</td>\n",
       "    </tr>\n",
       "    <tr>\n",
       "      <th>2020.958333</th>\n",
       "      <td>0.114366</td>\n",
       "      <td>0.064727</td>\n",
       "    </tr>\n",
       "    <tr>\n",
       "      <th>2021.041667</th>\n",
       "      <td>0.129603</td>\n",
       "      <td>0.087416</td>\n",
       "    </tr>\n",
       "  </tbody>\n",
       "</table>\n",
       "<p>312 rows × 2 columns</p>\n",
       "</div>"
      ],
      "text/plain": [
       "naam         IJmuiden Noordersluis  IJmuiden buitenhaven\n",
       "year                                                    \n",
       "1981.041667               0.056882              0.017105\n",
       "1981.125000              -0.101966             -0.146550\n",
       "1981.208333               0.025028             -0.005727\n",
       "1981.291667              -0.168538             -0.203802\n",
       "1981.375000              -0.029040             -0.068996\n",
       "...                            ...                   ...\n",
       "2020.708333               0.141734              0.085939\n",
       "2020.791667               0.175867              0.119310\n",
       "2020.875000               0.114956              0.063173\n",
       "2020.958333               0.114366              0.064727\n",
       "2021.041667               0.129603              0.087416\n",
       "\n",
       "[312 rows x 2 columns]"
      ]
     },
     "execution_count": 26,
     "metadata": {},
     "output_type": "execute_result"
    }
   ],
   "source": [
    "df2"
   ]
  },
  {
   "cell_type": "code",
   "execution_count": 27,
   "metadata": {},
   "outputs": [
    {
     "data": {
      "image/png": "[encoded data removed]",
      "text/plain": [
       "<Figure size 432x288 with 1 Axes>"
      ]
     },
     "metadata": {
      "needs_background": "light"
     },
     "output_type": "display_data"
    }
   ],
   "source": [
    "x = np.linspace(-0.3, 0.4, 100)\n",
    "plt.plot(df2['IJmuiden Noordersluis'], df2['IJmuiden buitenhaven'], 'rx')\n",
    "plt.plot(x, x);"
   ]
  },
  {
   "cell_type": "code",
   "execution_count": 29,
   "metadata": {},
   "outputs": [
    {
     "data": {
      "text/plain": [
       "0.10583234547461008"
      ]
     },
     "execution_count": 29,
     "metadata": {},
     "output_type": "execute_result"
    }
   ],
   "source": [
    "df2['IJmuiden Noordersluis'].std()"
   ]
  },
  {
   "cell_type": "code",
   "execution_count": 30,
   "metadata": {},
   "outputs": [
    {
     "data": {
      "text/plain": [
       "0.10198773138976595"
      ]
     },
     "execution_count": 30,
     "metadata": {},
     "output_type": "execute_result"
    }
   ],
   "source": [
    "df2['IJmuiden buitenhaven'].std()"
   ]
  },
  {
   "cell_type": "markdown",
   "metadata": {},
   "source": [
    "#### End script\n",
    "Prepared by HVEC lab, 2022"
   ]
  }
 ],
 "metadata": {
  "kernelspec": {
   "display_name": "Python 3.10.4 64-bit",
   "language": "python",
   "name": "python3"
  },
  "language_info": {
   "codemirror_mode": {
    "name": "ipython",
    "version": 3
   },
   "file_extension": ".py",
   "mimetype": "text/x-python",
   "name": "python",
   "nbconvert_exporter": "python",
   "pygments_lexer": "ipython3",
   "version": "3.10.4"
  },
  "orig_nbformat": 4,
  "vscode": {
   "interpreter": {
    "hash": "8f524c5d4fd00a57cf286a859919f18af5e86658323418c29131ee166da378b4"
   }
  }
 },
 "nbformat": 4,
 "nbformat_minor": 2
}
