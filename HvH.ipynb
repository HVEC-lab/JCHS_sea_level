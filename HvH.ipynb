{
 "cells": [
  {
   "cell_type": "markdown",
   "metadata": {},
   "source": [
    "<figure>\n",
    "  <IMG SRC=\"Logo.png\"  WIDTH=150 ALIGN=\"right\">\n",
    "</figure>\n",
    "\n",
    "## Projections of mean sea level and tides<br>\n",
    "### Six Dutch stations\n",
    "<b>Prepared by: H.G. Voortman</b>\n"
   ]
  },
  {
   "cell_type": "markdown",
   "metadata": {},
   "source": [
    "<figure>\n",
    "    <IMG SRC=\"https://www.python.org/static/community_logos/python-powered-w-200x80.png\"  WIDTH=100 ALIGN=\"right\">\n",
    "</figure>\n",
    "\n",
    "#### Description\n",
    "- Showing examples of effects in the North Sea"
   ]
  },
  {
   "cell_type": "markdown",
   "metadata": {},
   "source": [
    "#### References\n",
    "- Provided in report"
   ]
  },
  {
   "cell_type": "markdown",
   "metadata": {},
   "source": [
    "#### Packages"
   ]
  },
  {
   "cell_type": "code",
   "execution_count": 17,
   "metadata": {},
   "outputs": [],
   "source": [
    "# General packages\n",
    "import pandas as pd\n",
    "import matplotlib.pyplot as plt\n",
    "import sqlite3 as sq\n",
    "import numpy as np\n",
    "import scipy.signal as signal\n",
    "import datetime as dt\n",
    "\n",
    "import hvec_tide.analysers as tide"
   ]
  },
  {
   "cell_type": "code",
   "execution_count": 3,
   "metadata": {},
   "outputs": [],
   "source": [
    "import utide as ut"
   ]
  },
  {
   "cell_type": "code",
   "execution_count": 6,
   "metadata": {},
   "outputs": [
    {
     "name": "stdout",
     "output_type": "stream",
     "text": [
      "Help on function solve in module utide._solve:\n",
      "\n",
      "solve(t, u, v=None, lat=None, **opts)\n",
      "    Calculate amplitude, phase, confidence intervals of tidal constituents.\n",
      "    \n",
      "    Parameters\n",
      "    ----------\n",
      "    t : array_like\n",
      "        Time in days since `epoch`.\n",
      "    u : array_like\n",
      "        Sea-surface height, velocity component, etc.\n",
      "    v : {None, array_like}, optional\n",
      "        If `u` is a velocity component, `v` is the orthogonal component.\n",
      "    lat : float, required\n",
      "        Latitude in degrees.\n",
      "    epoch : {string, `datetime.date`, `datetime.datetime`}, optional\n",
      "        Valid strings are 'python' (default); 'matlab' if `t` is\n",
      "        an array of Matlab datenums; or an arbitrary date in the\n",
      "        form 'YYYY-MM-DD'.  The default corresponds to the Python\n",
      "        standard library `datetime` proleptic Gregorian calendar,\n",
      "        starting with 1 at 00:00 on January 1 of year 1; this is\n",
      "        the 'datenum' used by Matplotlib.\n",
      "    constit : {'auto', sequence}, optional\n",
      "        List of strings with standard letter abbreviations of\n",
      "        tidal constituents; or 'auto' to let the list be determined\n",
      "        based on the time span.\n",
      "    conf_int : {'linear', 'MC', 'none'}, optional\n",
      "        If not 'none' (string), calculate linearized confidence\n",
      "        intervals, or use a Monte-Carlo simulation.\n",
      "    method : {'ols', 'robust'}, optional\n",
      "        Solve with ordinary least squares, or with a robust algorithm.\n",
      "    trend : bool, optional\n",
      "        True (default) to include a linear trend in the model.\n",
      "    phase : {'Greenwich', 'linear_time', 'raw'}, optional\n",
      "        Give Greenwich-referenced phase lags, an approximation\n",
      "        using linearized times, or raw lags.\n",
      "    nodal : {True, False, 'linear_time'}, optional\n",
      "        True (default) to include nodal/satellite corrections;\n",
      "        'linear_time' to use the linearized time approximation;\n",
      "        False to omit nodal corrections.\n",
      "    \n",
      "    Returns\n",
      "    -------\n",
      "    coef : Bunch\n",
      "        Data container with all configuration and solution information:\n",
      "    \n",
      "    Other Parameters\n",
      "    ----------------\n",
      "    infer : {None, dict or Bunch}, optional; default is None.\n",
      "        If not None, the items are:\n",
      "    \n",
      "        **inferred_names** : {sequence of N strings}\n",
      "            inferred constituent names\n",
      "        **reference_names** : {sequence of N strings}\n",
      "            reference constituent names\n",
      "        **amp_ratios** : {sequence, N or 2N floats}\n",
      "            amplitude ratios (unitless)\n",
      "        **phase_offsets** : {sequence, N or 2N floats}\n",
      "            phase offsets (degrees)\n",
      "        **approximate** : {bool, optional (default is False)}\n",
      "            use approximate method\n",
      "    \n",
      "        amp_ratios and phase_offsets have length N for a scalar\n",
      "        time series, or 2N for a vector series.\n",
      "    \n",
      "    order_constit : {'PE', 'SNR', 'frequency', sequence}, optional\n",
      "        The default is 'PE' (percent energy) order, returning results ordered from\n",
      "        high energy to low.\n",
      "        The 'SNR' order is from high signal-to-noise ratio to low, and is\n",
      "        available only if `conf_int` is not 'none'. The\n",
      "        'frequency' order is from low to high frequency. Alternatively, a\n",
      "        sequence of constituent names may be supplied, typically the same list as\n",
      "        given in the *constit* option.\n",
      "    MC_n : integer, optional\n",
      "        Not yet implemented.\n",
      "    robust_kw : dict, optional\n",
      "        Keyword arguments for `robustfit`, if `method` is 'robust'.\n",
      "    Rayleigh_min : float\n",
      "        Minimum conventional Rayleigh criterion for automatic\n",
      "        constituent selection; default is 1.\n",
      "    white : bool\n",
      "        If False (default), use band-averaged spectra from the\n",
      "        residuals in the confidence limit estimates; if True,\n",
      "        assume a white background spectrum.\n",
      "    verbose : {True, False}, optional\n",
      "        True (default) turns on verbose output. False emits no messages.\n",
      "    \n",
      "    Note\n",
      "    ----\n",
      "    `utide.reconstruct` requires the calculation of confidence intervals.\n",
      "    \n",
      "    Notes\n",
      "    -----\n",
      "    \n",
      "    To be added: much additional explanation.\n",
      "    \n",
      "    There will also be more \"Other Parameters\".\n",
      "\n"
     ]
    }
   ],
   "source": [
    "help(ut.solve)"
   ]
  },
  {
   "cell_type": "code",
   "execution_count": 18,
   "metadata": {},
   "outputs": [
    {
     "data": {
      "text/plain": [
       "['aKNMI_data.xlsx',\n",
       " 'aRWS_coast.xlsx',\n",
       " 'aRWS_inland.xlsx',\n",
       " 'aRWS_storm_jan22.xlsx',\n",
       " 'aRWS_test.xlsx',\n",
       " 'del.txt',\n",
       " 'del2.txt',\n",
       " 'har.txt',\n",
       " 'har2.txt',\n",
       " 'hel.txt',\n",
       " 'hel2.txt',\n",
       " 'hvec_tide.log',\n",
       " 'hvh.txt',\n",
       " 'hvh2.txt',\n",
       " 'ijm.txt',\n",
       " 'ijm2.txt',\n",
       " 'KNMI_data.xlsx',\n",
       " 'locations.json',\n",
       " 'RWS_data.xlsx',\n",
       " 'vli.txt',\n",
       " 'vli2.txt']"
      ]
     },
     "execution_count": 18,
     "metadata": {},
     "output_type": "execute_result"
    }
   ],
   "source": [
    "os.chdir(os.getenv('DATAPATH') + r'/downloadspecs')\n",
    "os.listdir()"
   ]
  },
  {
   "cell_type": "code",
   "execution_count": 67,
   "metadata": {},
   "outputs": [],
   "source": [
    "file = 'hVh.txt'\n",
    "f = open(file)"
   ]
  },
  {
   "cell_type": "code",
   "execution_count": 68,
   "metadata": {},
   "outputs": [],
   "source": [
    "# Skip lines until date is found for the first time\n",
    "skip_cnt = 1\n",
    "while True:\n",
    "    string = f.readline()\n",
    "    skip_cnt = skip_cnt + 1\n",
    "    if string.startswith('01-'):\n",
    "        skip_cnt = skip_cnt - 1\n",
    "        break\n",
    "f.close() # Close file\n",
    "    \n",
    "# Now read data, knowing the lines to skip\n",
    "df = pd.read_csv(file, skiprows = skip_cnt, delim_whitespace = True,\n",
    "                parse_dates = [[0, 1]]\n",
    "                )\n",
    "    \n",
    "#%% Add a few additional columns\n",
    "df.columns = ['tijd', 'tide', 'waarde']\n"
   ]
  },
  {
   "cell_type": "code",
   "execution_count": 69,
   "metadata": {},
   "outputs": [],
   "source": [
    "file = 'hvh2.txt'\n",
    "f = open(file)\n",
    "# Skip lines until date is found for the first time\n",
    "skip_cnt = 1\n",
    "while True:\n",
    "    string = f.readline()\n",
    "    skip_cnt = skip_cnt + 1\n",
    "    if string.startswith('01-'):\n",
    "        skip_cnt = skip_cnt - 1\n",
    "        break\n",
    "f.close() # Close file\n",
    "    \n",
    "# Now read data, knowing the lines to skip\n",
    "df2 = (pd.read_csv(file, skiprows = skip_cnt, delim_whitespace = True,\n",
    "                parse_dates = [[0, 1]])\n",
    "                )\n",
    "    \n",
    "#%% Add a few additional columns\n",
    "df2.columns = ['tijd', 'tide', 'waarde']\n"
   ]
  },
  {
   "cell_type": "code",
   "execution_count": 70,
   "metadata": {},
   "outputs": [],
   "source": [
    "df = pd.concat([df2, df])"
   ]
  },
  {
   "cell_type": "code",
   "execution_count": 71,
   "metadata": {},
   "outputs": [],
   "source": [
    "df['year'] =df['tijd'].dt.year"
   ]
  },
  {
   "cell_type": "code",
   "execution_count": 72,
   "metadata": {},
   "outputs": [],
   "source": [
    "df['naam'] = 'Hoek van Holland'"
   ]
  },
  {
   "cell_type": "code",
   "execution_count": 73,
   "metadata": {},
   "outputs": [
    {
     "data": {
      "text/plain": [
       "tijd      datetime64[ns]\n",
       "tide               int64\n",
       "waarde             int64\n",
       "year               int64\n",
       "naam              object\n",
       "dtype: object"
      ]
     },
     "execution_count": 73,
     "metadata": {},
     "output_type": "execute_result"
    }
   ],
   "source": [
    "df.dtypes"
   ]
  },
  {
   "cell_type": "code",
   "execution_count": 82,
   "metadata": {},
   "outputs": [
    {
     "name": "stderr",
     "output_type": "stream",
     "text": [
      "100%|██████████| 54/54 [00:26<00:00,  2.05it/s]\n"
     ]
    }
   ],
   "source": [
    "constit = tide.analyse_long_series(\n",
    "    df, col_datetime = 'tijd', col_h = 'waarde',\n",
    "    col_loc = 'naam', lat = 52, \n",
    "    nodal = False,\n",
    "    trend = False,\n",
    "    method = 'linear',\n",
    "    #constit = {'M2', 'S2', 'N2', 'K1'}, #, 'N2', 'M4'}, #, 'MU2', 'L2', 'K2', 'MS4', 'O1'},\n",
    "    create_time_series = False,\n",
    "    include_phase = False)"
   ]
  },
  {
   "cell_type": "code",
   "execution_count": 83,
   "metadata": {},
   "outputs": [
    {
     "name": "stdout",
     "output_type": "stream",
     "text": [
      "z0\n",
      "M2_ampl\n",
      "M4_ampl\n",
      "MS4_ampl\n",
      "MSM_ampl\n",
      "S2_ampl\n",
      "K1_ampl\n",
      "MK3_ampl\n",
      "MF_ampl\n",
      "MM_ampl\n",
      "N2_ampl\n",
      "NU2_ampl\n",
      "P1_ampl\n",
      "MN4_ampl\n",
      "MK4_ampl\n",
      "M6_ampl\n",
      "K2_ampl\n",
      "L2_ampl\n",
      "LDA2_ampl\n",
      "SO3_ampl\n",
      "S4_ampl\n",
      "Q1_ampl\n",
      "3MK7_ampl\n",
      "MU2_ampl\n",
      "2MK5_ampl\n",
      "M8_ampl\n",
      "2MN6_ampl\n",
      "2N2_ampl\n",
      "O1_ampl\n",
      "MKS2_ampl\n",
      "TAU1_ampl\n",
      "NO1_ampl\n",
      "EPS2_ampl\n",
      "2MK6_ampl\n",
      "OQ2_ampl\n",
      "SIG1_ampl\n",
      "RHO1_ampl\n",
      "SSA_ampl\n",
      "2MS6_ampl\n",
      "CHI1_ampl\n",
      "BET1_ampl\n",
      "SK3_ampl\n",
      "ALP1_ampl\n",
      "J1_ampl\n",
      "SN4_ampl\n",
      "UPS1_ampl\n",
      "PHI1_ampl\n",
      "THE1_ampl\n",
      "OO1_ampl\n",
      "2SM6_ampl\n",
      "ETA2_ampl\n",
      "SO1_ampl\n",
      "MSF_ampl\n",
      "M3_ampl\n",
      "2Q1_ampl\n",
      "MSN2_ampl\n",
      "SK4_ampl\n",
      "2SK5_ampl\n",
      "MSK6_ampl\n",
      "MO3_ampl\n",
      "M2_A_ci\n",
      "M4_A_ci\n",
      "MS4_A_ci\n",
      "MSM_A_ci\n",
      "S2_A_ci\n",
      "K1_A_ci\n",
      "MK3_A_ci\n",
      "MF_A_ci\n",
      "MM_A_ci\n",
      "N2_A_ci\n",
      "NU2_A_ci\n",
      "P1_A_ci\n",
      "MN4_A_ci\n",
      "MK4_A_ci\n",
      "M6_A_ci\n",
      "K2_A_ci\n",
      "L2_A_ci\n",
      "LDA2_A_ci\n",
      "SO3_A_ci\n",
      "S4_A_ci\n",
      "Q1_A_ci\n",
      "3MK7_A_ci\n",
      "MU2_A_ci\n",
      "2MK5_A_ci\n",
      "M8_A_ci\n",
      "2MN6_A_ci\n",
      "2N2_A_ci\n",
      "O1_A_ci\n",
      "MKS2_A_ci\n",
      "TAU1_A_ci\n",
      "NO1_A_ci\n",
      "EPS2_A_ci\n",
      "2MK6_A_ci\n",
      "OQ2_A_ci\n",
      "SIG1_A_ci\n",
      "RHO1_A_ci\n",
      "SSA_A_ci\n",
      "2MS6_A_ci\n",
      "CHI1_A_ci\n",
      "BET1_A_ci\n",
      "SK3_A_ci\n",
      "ALP1_A_ci\n",
      "J1_A_ci\n",
      "SN4_A_ci\n",
      "UPS1_A_ci\n",
      "PHI1_A_ci\n",
      "THE1_A_ci\n",
      "OO1_A_ci\n",
      "2SM6_A_ci\n",
      "ETA2_A_ci\n",
      "SO1_A_ci\n",
      "MSF_A_ci\n",
      "M3_A_ci\n",
      "2Q1_A_ci\n",
      "MSN2_A_ci\n",
      "SK4_A_ci\n",
      "2SK5_A_ci\n",
      "MSK6_A_ci\n",
      "MO3_A_ci\n",
      "MHWS\n",
      "MLWS\n",
      "MHWN\n",
      "MLWN\n",
      "zmean\n",
      "count\n",
      "SA_ampl\n",
      "R2_ampl\n",
      "H2_ampl\n",
      "T2_ampl\n",
      "S1_ampl\n",
      "PSI1_ampl\n",
      "H1_ampl\n",
      "PI1_ampl\n",
      "SA_A_ci\n",
      "R2_A_ci\n",
      "H2_A_ci\n",
      "T2_A_ci\n",
      "S1_A_ci\n",
      "PSI1_A_ci\n",
      "H1_A_ci\n",
      "PI1_A_ci\n"
     ]
    }
   ],
   "source": [
    "for cl in constit.columns:\n",
    "    print(cl)"
   ]
  },
  {
   "cell_type": "code",
   "execution_count": 84,
   "metadata": {},
   "outputs": [
    {
     "name": "stderr",
     "output_type": "stream",
     "text": [
      "C:\\Users\\Hessel Voortman\\AppData\\Local\\Temp\\ipykernel_928\\2040790704.py:1: PerformanceWarning: DataFrame is highly fragmented.  This is usually the result of calling `frame.insert` many times, which has poor performance.  Consider joining all columns at once using pd.concat(axis=1) instead. To get a de-fragmented frame, use `newframe = frame.copy()`\n",
      "  constit.reset_index(inplace = True)\n",
      "C:\\Users\\Hessel Voortman\\AppData\\Local\\Temp\\ipykernel_928\\2040790704.py:1: PerformanceWarning: DataFrame is highly fragmented.  This is usually the result of calling `frame.insert` many times, which has poor performance.  Consider joining all columns at once using pd.concat(axis=1) instead. To get a de-fragmented frame, use `newframe = frame.copy()`\n",
      "  constit.reset_index(inplace = True)\n",
      "C:\\Users\\Hessel Voortman\\AppData\\Local\\Temp\\ipykernel_928\\2040790704.py:1: PerformanceWarning: DataFrame is highly fragmented.  This is usually the result of calling `frame.insert` many times, which has poor performance.  Consider joining all columns at once using pd.concat(axis=1) instead. To get a de-fragmented frame, use `newframe = frame.copy()`\n",
      "  constit.reset_index(inplace = True)\n",
      "C:\\Users\\Hessel Voortman\\AppData\\Local\\Temp\\ipykernel_928\\2040790704.py:2: PerformanceWarning: DataFrame is highly fragmented.  This is usually the result of calling `frame.insert` many times, which has poor performance.  Consider joining all columns at once using pd.concat(axis=1) instead. To get a de-fragmented frame, use `newframe = frame.copy()`\n",
      "  constit['year'] = constit['tijd'].dt.year\n"
     ]
    }
   ],
   "source": [
    "constit.reset_index(inplace = True)\n",
    "constit['year'] = constit['tijd'].dt.year"
   ]
  },
  {
   "cell_type": "code",
   "execution_count": 88,
   "metadata": {},
   "outputs": [
    {
     "data": {
      "image/png": "[encoded data removed]",
      "text/plain": [
       "<Figure size 864x576 with 1 Axes>"
      ]
     },
     "metadata": {
      "needs_background": "light"
     },
     "output_type": "display_data"
    }
   ],
   "source": [
    "plt.figure(figsize = (12,8))\n",
    "plt.plot(df['year'].unique(), df.groupby('year')['waarde'].mean(), 'ro', label = 'Mean per year', mfc = 'none')\n",
    "data = df[df['tide'].isin([1,2,3])]\n",
    "plt.plot(data['year'].unique(), data.groupby('year')['waarde'].mean(), 'bx', label = 'Selection of high and first low per cycle. Mean per year.')\n",
    "data = df[df['tide'].isin([1,2,5])]\n",
    "plt.plot(data['year'].unique(), data.groupby('year')['waarde'].mean(), 'k^', label = 'Selection of high and last low per cycle. Mean per year.', mfc = 'none')\n",
    "plt.plot(constit['year'], constit['z0'], 'go', mfc = 'none', label = 'Calculated mid level of tide')\n",
    "plt.xlabel('Year')\n",
    "plt.ylabel('Level (CD +m)')\n",
    "plt.legend();"
   ]
  },
  {
   "cell_type": "code",
   "execution_count": null,
   "metadata": {},
   "outputs": [],
   "source": []
  }
 ],
 "metadata": {
  "kernelspec": {
   "display_name": "Python 3.10.4 64-bit",
   "language": "python",
   "name": "python3"
  },
  "language_info": {
   "codemirror_mode": {
    "name": "ipython",
    "version": 3
   },
   "file_extension": ".py",
   "mimetype": "text/x-python",
   "name": "python",
   "nbconvert_exporter": "python",
   "pygments_lexer": "ipython3",
   "version": "3.10.4"
  },
  "orig_nbformat": 4,
  "vscode": {
   "interpreter": {
    "hash": "8f524c5d4fd00a57cf286a859919f18af5e86658323418c29131ee166da378b4"
   }
  }
 },
 "nbformat": 4,
 "nbformat_minor": 2
}
