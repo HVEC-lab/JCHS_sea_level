{
 "cells": [
  {
   "cell_type": "markdown",
   "metadata": {},
   "source": [
    "<figure>\n",
    "  <IMG SRC=\"Logo.png\"  WIDTH=150 ALIGN=\"right\">\n",
    "</figure>\n",
    "\n",
    "## Projections of mean sea level and tides<br>\n",
    "### Six Dutch stations\n",
    "<b>Prepared by: H.G. Voortman</b>\n"
   ]
  },
  {
   "cell_type": "markdown",
   "metadata": {},
   "source": [
    "<figure>\n",
    "    <IMG SRC=\"https://www.python.org/static/community_logos/python-powered-w-200x80.png\"  WIDTH=100 ALIGN=\"right\">\n",
    "</figure>\n",
    "\n",
    "#### Description\n",
    "- Showing examples of effects in the North Sea"
   ]
  },
  {
   "cell_type": "markdown",
   "metadata": {},
   "source": [
    "#### References\n",
    "- Provided in report"
   ]
  },
  {
   "cell_type": "markdown",
   "metadata": {},
   "source": [
    "#### Packages"
   ]
  },
  {
   "cell_type": "code",
   "execution_count": 25,
   "metadata": {},
   "outputs": [],
   "source": [
    "# General packages\n",
    "import pandas as pd\n",
    "import matplotlib.pyplot as plt\n",
    "import sqlite3 as sq\n",
    "import numpy as np\n",
    "import scipy.signal as signal\n",
    "import datetime as dt"
   ]
  },
  {
   "cell_type": "code",
   "execution_count": 26,
   "metadata": {},
   "outputs": [],
   "source": [
    "# Settings\n",
    "plt.rcParams['axes.grid'] = True"
   ]
  },
  {
   "cell_type": "markdown",
   "metadata": {},
   "source": [
    "#### Connect database and import data"
   ]
  },
  {
   "cell_type": "code",
   "execution_count": 27,
   "metadata": {},
   "outputs": [],
   "source": [
    "# Connect database\n",
    "conn_str = os.getenv('DATAPATH') + 'RWS_processed.db'\n",
    "cnxn = sq.connect(conn_str, detect_types = True)"
   ]
  },
  {
   "cell_type": "code",
   "execution_count": 28,
   "metadata": {},
   "outputs": [
    {
     "data": {
      "text/html": [
       "<div>\n",
       "<style scoped>\n",
       "    .dataframe tbody tr th:only-of-type {\n",
       "        vertical-align: middle;\n",
       "    }\n",
       "\n",
       "    .dataframe tbody tr th {\n",
       "        vertical-align: top;\n",
       "    }\n",
       "\n",
       "    .dataframe thead th {\n",
       "        text-align: right;\n",
       "    }\n",
       "</style>\n",
       "<table border=\"1\" class=\"dataframe\">\n",
       "  <thead>\n",
       "    <tr style=\"text-align: right;\">\n",
       "      <th></th>\n",
       "      <th>type</th>\n",
       "      <th>name</th>\n",
       "      <th>tbl_name</th>\n",
       "      <th>rootpage</th>\n",
       "      <th>sql</th>\n",
       "    </tr>\n",
       "  </thead>\n",
       "  <tbody>\n",
       "    <tr>\n",
       "      <th>0</th>\n",
       "      <td>table</td>\n",
       "      <td>const_yr</td>\n",
       "      <td>const_yr</td>\n",
       "      <td>2</td>\n",
       "      <td>CREATE TABLE \"const_yr\" (\\n\"tijd\" TIMESTAMP,\\n...</td>\n",
       "    </tr>\n",
       "    <tr>\n",
       "      <th>1</th>\n",
       "      <td>table</td>\n",
       "      <td>timeseries</td>\n",
       "      <td>timeseries</td>\n",
       "      <td>3</td>\n",
       "      <td>CREATE TABLE \"timeseries\" (\\n\"index\" INTEGER,\\...</td>\n",
       "    </tr>\n",
       "    <tr>\n",
       "      <th>2</th>\n",
       "      <td>table</td>\n",
       "      <td>const_mnth</td>\n",
       "      <td>const_mnth</td>\n",
       "      <td>4</td>\n",
       "      <td>CREATE TABLE \"const_mnth\" (\\n\"tijd\" TIMESTAMP,...</td>\n",
       "    </tr>\n",
       "    <tr>\n",
       "      <th>3</th>\n",
       "      <td>index</td>\n",
       "      <td>ix_const_yr_tijd_naam_level_2</td>\n",
       "      <td>const_yr</td>\n",
       "      <td>5</td>\n",
       "      <td>CREATE INDEX \"ix_const_yr_tijd_naam_level_2\"ON...</td>\n",
       "    </tr>\n",
       "    <tr>\n",
       "      <th>4</th>\n",
       "      <td>index</td>\n",
       "      <td>ix_timeseries_index</td>\n",
       "      <td>timeseries</td>\n",
       "      <td>6</td>\n",
       "      <td>CREATE INDEX \"ix_timeseries_index\"ON \"timeseri...</td>\n",
       "    </tr>\n",
       "    <tr>\n",
       "      <th>5</th>\n",
       "      <td>index</td>\n",
       "      <td>ix_const_mnth_tijd_naam_level_2</td>\n",
       "      <td>const_mnth</td>\n",
       "      <td>7</td>\n",
       "      <td>CREATE INDEX \"ix_const_mnth_tijd_naam_level_2\"...</td>\n",
       "    </tr>\n",
       "  </tbody>\n",
       "</table>\n",
       "</div>"
      ],
      "text/plain": [
       "    type                             name    tbl_name  rootpage  \\\n",
       "0  table                         const_yr    const_yr         2   \n",
       "1  table                       timeseries  timeseries         3   \n",
       "2  table                       const_mnth  const_mnth         4   \n",
       "3  index    ix_const_yr_tijd_naam_level_2    const_yr         5   \n",
       "4  index              ix_timeseries_index  timeseries         6   \n",
       "5  index  ix_const_mnth_tijd_naam_level_2  const_mnth         7   \n",
       "\n",
       "                                                 sql  \n",
       "0  CREATE TABLE \"const_yr\" (\\n\"tijd\" TIMESTAMP,\\n...  \n",
       "1  CREATE TABLE \"timeseries\" (\\n\"index\" INTEGER,\\...  \n",
       "2  CREATE TABLE \"const_mnth\" (\\n\"tijd\" TIMESTAMP,...  \n",
       "3  CREATE INDEX \"ix_const_yr_tijd_naam_level_2\"ON...  \n",
       "4  CREATE INDEX \"ix_timeseries_index\"ON \"timeseri...  \n",
       "5  CREATE INDEX \"ix_const_mnth_tijd_naam_level_2\"...  "
      ]
     },
     "execution_count": 28,
     "metadata": {},
     "output_type": "execute_result"
    }
   ],
   "source": [
    "pd.read_sql('SELECT * FROM sqlite_master', cnxn)"
   ]
  },
  {
   "cell_type": "code",
   "execution_count": 29,
   "metadata": {},
   "outputs": [
    {
     "data": {
      "text/html": [
       "<div>\n",
       "<style scoped>\n",
       "    .dataframe tbody tr th:only-of-type {\n",
       "        vertical-align: middle;\n",
       "    }\n",
       "\n",
       "    .dataframe tbody tr th {\n",
       "        vertical-align: top;\n",
       "    }\n",
       "\n",
       "    .dataframe thead th {\n",
       "        text-align: right;\n",
       "    }\n",
       "</style>\n",
       "<table border=\"1\" class=\"dataframe\">\n",
       "  <thead>\n",
       "    <tr style=\"text-align: right;\">\n",
       "      <th></th>\n",
       "      <th>cid</th>\n",
       "      <th>name</th>\n",
       "      <th>type</th>\n",
       "      <th>notnull</th>\n",
       "      <th>dflt_value</th>\n",
       "      <th>pk</th>\n",
       "    </tr>\n",
       "  </thead>\n",
       "  <tbody>\n",
       "    <tr>\n",
       "      <th>0</th>\n",
       "      <td>0</td>\n",
       "      <td>index</td>\n",
       "      <td>INTEGER</td>\n",
       "      <td>0</td>\n",
       "      <td>None</td>\n",
       "      <td>0</td>\n",
       "    </tr>\n",
       "    <tr>\n",
       "      <th>1</th>\n",
       "      <td>1</td>\n",
       "      <td>naam</td>\n",
       "      <td>TEXT</td>\n",
       "      <td>0</td>\n",
       "      <td>None</td>\n",
       "      <td>0</td>\n",
       "    </tr>\n",
       "    <tr>\n",
       "      <th>2</th>\n",
       "      <td>2</td>\n",
       "      <td>tijd</td>\n",
       "      <td>TIMESTAMP</td>\n",
       "      <td>0</td>\n",
       "      <td>None</td>\n",
       "      <td>0</td>\n",
       "    </tr>\n",
       "    <tr>\n",
       "      <th>3</th>\n",
       "      <td>3</td>\n",
       "      <td>waarde</td>\n",
       "      <td>REAL</td>\n",
       "      <td>0</td>\n",
       "      <td>None</td>\n",
       "      <td>0</td>\n",
       "    </tr>\n",
       "    <tr>\n",
       "      <th>4</th>\n",
       "      <td>4</td>\n",
       "      <td>bron</td>\n",
       "      <td>TEXT</td>\n",
       "      <td>0</td>\n",
       "      <td>None</td>\n",
       "      <td>0</td>\n",
       "    </tr>\n",
       "    <tr>\n",
       "      <th>5</th>\n",
       "      <td>5</td>\n",
       "      <td>h_astr</td>\n",
       "      <td>REAL</td>\n",
       "      <td>0</td>\n",
       "      <td>None</td>\n",
       "      <td>0</td>\n",
       "    </tr>\n",
       "    <tr>\n",
       "      <th>6</th>\n",
       "      <td>6</td>\n",
       "      <td>setup</td>\n",
       "      <td>REAL</td>\n",
       "      <td>0</td>\n",
       "      <td>None</td>\n",
       "      <td>0</td>\n",
       "    </tr>\n",
       "  </tbody>\n",
       "</table>\n",
       "</div>"
      ],
      "text/plain": [
       "   cid    name       type  notnull dflt_value  pk\n",
       "0    0   index    INTEGER        0       None   0\n",
       "1    1    naam       TEXT        0       None   0\n",
       "2    2    tijd  TIMESTAMP        0       None   0\n",
       "3    3  waarde       REAL        0       None   0\n",
       "4    4    bron       TEXT        0       None   0\n",
       "5    5  h_astr       REAL        0       None   0\n",
       "6    6   setup       REAL        0       None   0"
      ]
     },
     "execution_count": 29,
     "metadata": {},
     "output_type": "execute_result"
    }
   ],
   "source": [
    "sql = \"PRAGMA table_info(timeseries)\"\n",
    "pd.read_sql(sql, cnxn)"
   ]
  },
  {
   "cell_type": "code",
   "execution_count": 30,
   "metadata": {},
   "outputs": [],
   "source": [
    "# Read table with observed water levels; complete years only\n",
    "sql = (\n",
    "    \"SELECT naam, tijd, waarde AS h, h_astr, setup \"\n",
    "    \"FROM timeseries \"\n",
    "    \"WHERE naam IN ('Hoek van Holland') \"\n",
    ")\n",
    "df = pd.read_sql(sql, cnxn) #.groupby('YEAR').mean()"
   ]
  },
  {
   "cell_type": "code",
   "execution_count": 31,
   "metadata": {},
   "outputs": [],
   "source": [
    "df.set_index(keys = 'tijd', inplace = True)\n",
    "df = df.loc[df['tijd'].dt.month == 7]\n",
    "df = df.reset_index()"
   ]
  },
  {
   "cell_type": "code",
   "execution_count": 32,
   "metadata": {},
   "outputs": [
    {
     "data": {
      "text/html": [
       "<div>\n",
       "<style scoped>\n",
       "    .dataframe tbody tr th:only-of-type {\n",
       "        vertical-align: middle;\n",
       "    }\n",
       "\n",
       "    .dataframe tbody tr th {\n",
       "        vertical-align: top;\n",
       "    }\n",
       "\n",
       "    .dataframe thead th {\n",
       "        text-align: right;\n",
       "    }\n",
       "</style>\n",
       "<table border=\"1\" class=\"dataframe\">\n",
       "  <thead>\n",
       "    <tr style=\"text-align: right;\">\n",
       "      <th></th>\n",
       "      <th>naam</th>\n",
       "      <th>tijd</th>\n",
       "      <th>h</th>\n",
       "      <th>h_astr</th>\n",
       "      <th>setup</th>\n",
       "    </tr>\n",
       "  </thead>\n",
       "  <tbody>\n",
       "    <tr>\n",
       "      <th>206</th>\n",
       "      <td>Hoek van Holland</td>\n",
       "      <td>1887-07-08 01:00:00</td>\n",
       "      <td>-1.04</td>\n",
       "      <td>-0.337919</td>\n",
       "      <td>-0.702081</td>\n",
       "    </tr>\n",
       "    <tr>\n",
       "      <th>207</th>\n",
       "      <td>Hoek van Holland</td>\n",
       "      <td>1887-07-08 05:10:00</td>\n",
       "      <td>0.80</td>\n",
       "      <td>0.986524</td>\n",
       "      <td>-0.186524</td>\n",
       "    </tr>\n",
       "    <tr>\n",
       "      <th>208</th>\n",
       "      <td>Hoek van Holland</td>\n",
       "      <td>1887-07-08 10:10:00</td>\n",
       "      <td>-0.60</td>\n",
       "      <td>-0.829943</td>\n",
       "      <td>0.229943</td>\n",
       "    </tr>\n",
       "    <tr>\n",
       "      <th>209</th>\n",
       "      <td>Hoek van Holland</td>\n",
       "      <td>1887-07-08 10:40:00</td>\n",
       "      <td>-0.54</td>\n",
       "      <td>-0.897428</td>\n",
       "      <td>0.357428</td>\n",
       "    </tr>\n",
       "    <tr>\n",
       "      <th>210</th>\n",
       "      <td>Hoek van Holland</td>\n",
       "      <td>1887-07-08 12:30:00</td>\n",
       "      <td>-0.74</td>\n",
       "      <td>-0.637490</td>\n",
       "      <td>-0.102510</td>\n",
       "    </tr>\n",
       "    <tr>\n",
       "      <th>...</th>\n",
       "      <td>...</td>\n",
       "      <td>...</td>\n",
       "      <td>...</td>\n",
       "      <td>...</td>\n",
       "      <td>...</td>\n",
       "    </tr>\n",
       "    <tr>\n",
       "      <th>653985</th>\n",
       "      <td>Hoek van Holland</td>\n",
       "      <td>2021-07-31 19:00:00</td>\n",
       "      <td>1.28</td>\n",
       "      <td>0.733034</td>\n",
       "      <td>0.546966</td>\n",
       "    </tr>\n",
       "    <tr>\n",
       "      <th>653986</th>\n",
       "      <td>Hoek van Holland</td>\n",
       "      <td>2021-07-31 20:00:00</td>\n",
       "      <td>1.09</td>\n",
       "      <td>0.704835</td>\n",
       "      <td>0.385165</td>\n",
       "    </tr>\n",
       "    <tr>\n",
       "      <th>653987</th>\n",
       "      <td>Hoek van Holland</td>\n",
       "      <td>2021-07-31 21:00:00</td>\n",
       "      <td>0.73</td>\n",
       "      <td>0.516237</td>\n",
       "      <td>0.213763</td>\n",
       "    </tr>\n",
       "    <tr>\n",
       "      <th>653988</th>\n",
       "      <td>Hoek van Holland</td>\n",
       "      <td>2021-07-31 22:00:00</td>\n",
       "      <td>0.25</td>\n",
       "      <td>0.209791</td>\n",
       "      <td>0.040209</td>\n",
       "    </tr>\n",
       "    <tr>\n",
       "      <th>653989</th>\n",
       "      <td>Hoek van Holland</td>\n",
       "      <td>2021-07-31 23:00:00</td>\n",
       "      <td>-0.24</td>\n",
       "      <td>-0.141451</td>\n",
       "      <td>-0.098549</td>\n",
       "    </tr>\n",
       "  </tbody>\n",
       "</table>\n",
       "<p>55700 rows × 5 columns</p>\n",
       "</div>"
      ],
      "text/plain": [
       "                    naam                tijd     h    h_astr     setup\n",
       "206     Hoek van Holland 1887-07-08 01:00:00 -1.04 -0.337919 -0.702081\n",
       "207     Hoek van Holland 1887-07-08 05:10:00  0.80  0.986524 -0.186524\n",
       "208     Hoek van Holland 1887-07-08 10:10:00 -0.60 -0.829943  0.229943\n",
       "209     Hoek van Holland 1887-07-08 10:40:00 -0.54 -0.897428  0.357428\n",
       "210     Hoek van Holland 1887-07-08 12:30:00 -0.74 -0.637490 -0.102510\n",
       "...                  ...                 ...   ...       ...       ...\n",
       "653985  Hoek van Holland 2021-07-31 19:00:00  1.28  0.733034  0.546966\n",
       "653986  Hoek van Holland 2021-07-31 20:00:00  1.09  0.704835  0.385165\n",
       "653987  Hoek van Holland 2021-07-31 21:00:00  0.73  0.516237  0.213763\n",
       "653988  Hoek van Holland 2021-07-31 22:00:00  0.25  0.209791  0.040209\n",
       "653989  Hoek van Holland 2021-07-31 23:00:00 -0.24 -0.141451 -0.098549\n",
       "\n",
       "[55700 rows x 5 columns]"
      ]
     },
     "execution_count": 32,
     "metadata": {},
     "output_type": "execute_result"
    }
   ],
   "source": [
    "df"
   ]
  },
  {
   "cell_type": "code",
   "execution_count": 37,
   "metadata": {},
   "outputs": [
    {
     "data": {
      "image/png": "[encoded data removed]",
      "text/plain": [
       "<Figure size 432x288 with 1 Axes>"
      ]
     },
     "metadata": {
      "needs_background": "light"
     },
     "output_type": "display_data"
    }
   ],
   "source": [
    "x = np.linspace(-2,2,100)\n",
    "plt.plot(x,x)\n",
    "#plt.plot(df['h'] , df['h_astr'], 'rx');\n",
    "plt.plot(df['tijd'] , df['h_astr'])\n",
    "plt.plot(df['tijd'] , df['h'], 'rx');"
   ]
  },
  {
   "cell_type": "code",
   "execution_count": null,
   "metadata": {},
   "outputs": [],
   "source": []
  }
 ],
 "metadata": {
  "kernelspec": {
   "display_name": "Python 3.10.4 64-bit",
   "language": "python",
   "name": "python3"
  },
  "language_info": {
   "codemirror_mode": {
    "name": "ipython",
    "version": 3
   },
   "file_extension": ".py",
   "mimetype": "text/x-python",
   "name": "python",
   "nbconvert_exporter": "python",
   "pygments_lexer": "ipython3",
   "version": "3.10.4"
  },
  "orig_nbformat": 4,
  "vscode": {
   "interpreter": {
    "hash": "8f524c5d4fd00a57cf286a859919f18af5e86658323418c29131ee166da378b4"
   }
  }
 },
 "nbformat": 4,
 "nbformat_minor": 2
}
