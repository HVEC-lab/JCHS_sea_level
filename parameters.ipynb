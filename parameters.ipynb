{
 "cells": [
  {
   "cell_type": "markdown",
   "metadata": {},
   "source": [
    "<figure>\n",
    "  <IMG SRC=\"Logo.png\"  WIDTH=150 ALIGN=\"right\">\n",
    "</figure>\n",
    "\n",
    "## Projections of mean sea level and tides<br>\n",
    "### Six Dutch stations\n",
    "<b>Prepared by: H.G. Voortman</b>\n"
   ]
  },
  {
   "cell_type": "markdown",
   "metadata": {},
   "source": [
    "<figure>\n",
    "    <IMG SRC=\"https://www.python.org/static/community_logos/python-powered-w-200x80.png\"  WIDTH=100 ALIGN=\"right\">\n",
    "</figure>\n",
    "\n",
    "#### Description"
   ]
  },
  {
   "cell_type": "markdown",
   "metadata": {},
   "source": [
    "#### References\n",
    "- Provided in report"
   ]
  },
  {
   "cell_type": "markdown",
   "metadata": {},
   "source": [
    "#### Packages"
   ]
  },
  {
   "cell_type": "code",
   "execution_count": 1,
   "metadata": {},
   "outputs": [],
   "source": [
    "# General packages\n",
    "import pandas as pd\n",
    "import matplotlib.pyplot as plt\n",
    "import sqlite3 as sq\n",
    "import numpy as np\n",
    "#import scipy.signal as signal\n",
    "#import datetime as dt\n",
    "import hvec_stat.general_fit as gf\n",
    "#import hvec_stat.gof as gof\n",
    "import hvec_stat.support as sup\n",
    "import models as mdl"
   ]
  },
  {
   "cell_type": "code",
   "execution_count": 2,
   "metadata": {},
   "outputs": [],
   "source": [
    "# Settings\n",
    "plt.rcParams['axes.grid'] = True\n",
    "figsize = (20, 18)"
   ]
  },
  {
   "cell_type": "markdown",
   "metadata": {},
   "source": [
    "#### Connect databases and import data"
   ]
  },
  {
   "cell_type": "markdown",
   "metadata": {},
   "source": [
    "##### Processed data Rijkswaterstaat"
   ]
  },
  {
   "cell_type": "code",
   "execution_count": 3,
   "metadata": {},
   "outputs": [],
   "source": [
    "# Connect database\n",
    "conn_str = os.getenv('DATAPATH') + 'RWS_processed.db'\n",
    "cnxn = sq.connect(conn_str, detect_types = True)"
   ]
  },
  {
   "cell_type": "code",
   "execution_count": 4,
   "metadata": {},
   "outputs": [
    {
     "data": {
      "text/html": [
       "<div>\n",
       "<style scoped>\n",
       "    .dataframe tbody tr th:only-of-type {\n",
       "        vertical-align: middle;\n",
       "    }\n",
       "\n",
       "    .dataframe tbody tr th {\n",
       "        vertical-align: top;\n",
       "    }\n",
       "\n",
       "    .dataframe thead th {\n",
       "        text-align: right;\n",
       "    }\n",
       "</style>\n",
       "<table border=\"1\" class=\"dataframe\">\n",
       "  <thead>\n",
       "    <tr style=\"text-align: right;\">\n",
       "      <th></th>\n",
       "      <th>type</th>\n",
       "      <th>name</th>\n",
       "      <th>tbl_name</th>\n",
       "      <th>rootpage</th>\n",
       "      <th>sql</th>\n",
       "    </tr>\n",
       "  </thead>\n",
       "  <tbody>\n",
       "    <tr>\n",
       "      <th>0</th>\n",
       "      <td>table</td>\n",
       "      <td>const_yr</td>\n",
       "      <td>const_yr</td>\n",
       "      <td>2</td>\n",
       "      <td>CREATE TABLE \"const_yr\" (\\n\"naam\" TEXT,\\n  \"le...</td>\n",
       "    </tr>\n",
       "    <tr>\n",
       "      <th>1</th>\n",
       "      <td>index</td>\n",
       "      <td>ix_const_yr_naam_level_1</td>\n",
       "      <td>const_yr</td>\n",
       "      <td>3</td>\n",
       "      <td>CREATE INDEX \"ix_const_yr_naam_level_1\"ON \"con...</td>\n",
       "    </tr>\n",
       "  </tbody>\n",
       "</table>\n",
       "</div>"
      ],
      "text/plain": [
       "    type                      name  tbl_name  rootpage  \\\n",
       "0  table                  const_yr  const_yr         2   \n",
       "1  index  ix_const_yr_naam_level_1  const_yr         3   \n",
       "\n",
       "                                                 sql  \n",
       "0  CREATE TABLE \"const_yr\" (\\n\"naam\" TEXT,\\n  \"le...  \n",
       "1  CREATE INDEX \"ix_const_yr_naam_level_1\"ON \"con...  "
      ]
     },
     "execution_count": 4,
     "metadata": {},
     "output_type": "execute_result"
    }
   ],
   "source": [
    "pd.read_sql('SELECT * FROM sqlite_master', cnxn)"
   ]
  },
  {
   "cell_type": "code",
   "execution_count": 5,
   "metadata": {},
   "outputs": [],
   "source": [
    "# Read table with observed water levels; complete years only\n",
    "sql = (\n",
    "    \"SELECT * \"\n",
    "    \"FROM 'const_yr' \"\n",
    "    \"WHERE naam IN ('Delfzijl', 'Harlingen', \"\n",
    "    \"'Den Helder', 'IJmuiden',  \"\n",
    "    \"'Hoek van Holland', 'Vlissingen') \"\n",
    "    \"AND (count>650) \"\n",
    "#    \"AND (set == 'Ftested3') \"\n",
    ")\n",
    "df = pd.read_sql(sql, cnxn) #.groupby('YEAR').mean()"
   ]
  },
  {
   "cell_type": "code",
   "execution_count": 6,
   "metadata": {},
   "outputs": [],
   "source": [
    "cnxn.close()"
   ]
  },
  {
   "cell_type": "code",
   "execution_count": 7,
   "metadata": {},
   "outputs": [
    {
     "data": {
      "text/plain": [
       "Index(['naam', 'level_1', 'z0', 'zmean', 'count', 'M2', 'S2', 'Rsq_adj',\n",
       "       'MHWS', 'MLWS', 'MHWN', 'MLWN', 'year', 'year_start', 'set', 'M4', 'O1',\n",
       "       'K2', 'K1', 'P1', 'N2', 'M6', 'MU2', 'L2', '2MS6', 'MS4', 'NU2', 'SA'],\n",
       "      dtype='object')"
      ]
     },
     "execution_count": 7,
     "metadata": {},
     "output_type": "execute_result"
    }
   ],
   "source": [
    "df.columns = df.columns.str.replace('_ampl', '')\n",
    "df.columns"
   ]
  },
  {
   "cell_type": "code",
   "execution_count": 8,
   "metadata": {},
   "outputs": [],
   "source": [
    "#df = df[np.abs(df['z0']) < 1e2]\n",
    "#df = df[np.abs(df['M2']) < 1e2]\n",
    "df = df[df['year'].between(1945, 2005)]"
   ]
  },
  {
   "cell_type": "code",
   "execution_count": 9,
   "metadata": {},
   "outputs": [],
   "source": [
    "names = [\n",
    "    'Delfzijl',\n",
    "    'Harlingen',\n",
    "    'Den Helder',\n",
    "    'IJmuiden',\n",
    "    'Hoek van Holland',\n",
    "    'Vlissingen'\n",
    "]"
   ]
  },
  {
   "cell_type": "code",
   "execution_count": 10,
   "metadata": {},
   "outputs": [],
   "source": [
    "df = df[df['set'] == 'Ftested3']"
   ]
  },
  {
   "cell_type": "markdown",
   "metadata": {},
   "source": [
    "#### Calibrate per model"
   ]
  },
  {
   "cell_type": "code",
   "execution_count": 11,
   "metadata": {},
   "outputs": [],
   "source": [
    "param = pd.DataFrame(columns = [\n",
    "    'name',\n",
    "    'var',\n",
    "    'model',\n",
    "    'intercept',\n",
    "    'slope',\n",
    "    'acceleration',\n",
    "    'A_885',\n",
    "    'A_1861',\n",
    "    'Rsqadj'], dtype = float)"
   ]
  },
  {
   "cell_type": "code",
   "execution_count": 12,
   "metadata": {},
   "outputs": [],
   "source": [
    "vars = ['z0', 'MHWS', 'MLWS']"
   ]
  },
  {
   "cell_type": "code",
   "execution_count": 13,
   "metadata": {},
   "outputs": [],
   "source": [
    "tmp = pd.DataFrame(columns = ['name'])\n",
    "\n",
    "namestore = []\n",
    "varstore = []\n",
    "modelstore = []\n",
    "intercept = []\n",
    "slope = []\n",
    "Rsqadj = []\n",
    "\n",
    "for vr in vars:\n",
    "    for nm in names:\n",
    "        if nm == 'Delfzijl':\n",
    "            if vr != 'z0':\n",
    "                continue\n",
    "\n",
    "        data = df[df['naam'] == nm]\n",
    "        res = gf.fit_with_uncert(\n",
    "            mdl.model1,\n",
    "            data['year'],\n",
    "            data[vr]\n",
    "        )\n",
    "\n",
    "        p = res[0]\n",
    "        \n",
    "        namestore.append(nm)\n",
    "        varstore.append(vr)\n",
    "        modelstore.append('model1')\n",
    "        intercept.append(p[0])\n",
    "        slope.append(p[1])\n",
    "        Rsqadj.append(res[5])\n",
    "\n",
    "\n",
    "tmp['name'] = namestore\n",
    "tmp['var'] = varstore\n",
    "tmp['model'] = modelstore\n",
    "tmp['intercept'] = intercept\n",
    "tmp['slope'] = slope\n",
    "tmp['Rsqadj'] = Rsqadj\n",
    "\n",
    "param = pd.concat([param, tmp])"
   ]
  },
  {
   "cell_type": "code",
   "execution_count": 14,
   "metadata": {},
   "outputs": [],
   "source": [
    "tmp = pd.DataFrame(columns = ['name'])\n",
    "\n",
    "namestore = []\n",
    "varstore = []\n",
    "modelstore = []\n",
    "intercept = []\n",
    "slope = []\n",
    "acceleration = []\n",
    "Rsqadj = []\n",
    "\n",
    "for vr in vars:\n",
    "    for nm in names:\n",
    "        if nm == 'Delfzijl':\n",
    "            if vr != 'z0':\n",
    "                continue\n",
    "\n",
    "        data = df[df['naam'] == nm]\n",
    "        res = gf.fit_with_uncert(\n",
    "            mdl.model2,\n",
    "            data['year'],\n",
    "            data[vr]\n",
    "        )\n",
    "\n",
    "        p = res[0]\n",
    "\n",
    "        namestore.append(nm)\n",
    "        varstore.append(vr)\n",
    "        modelstore.append('model2')\n",
    "        intercept.append(p[0])\n",
    "        slope.append(p[1])\n",
    "        acceleration.append(p[2])\n",
    "        Rsqadj.append(res[5])\n",
    "        \n",
    "\n",
    "tmp['name'] = namestore\n",
    "tmp['var'] = varstore\n",
    "tmp['model'] = modelstore\n",
    "tmp['intercept'] = intercept\n",
    "tmp['slope'] = slope\n",
    "tmp['acceleration'] = acceleration\n",
    "tmp['Rsqadj'] = Rsqadj\n",
    "\n",
    "param = pd.concat([param, tmp])"
   ]
  },
  {
   "cell_type": "code",
   "execution_count": 15,
   "metadata": {},
   "outputs": [],
   "source": [
    "tmp = pd.DataFrame(columns = ['name'])\n",
    "\n",
    "namestore = []\n",
    "varstore = []\n",
    "modelstore = []\n",
    "intercept = []\n",
    "slope = []\n",
    "acceleration = []\n",
    "A_885 = []\n",
    "A_1861 = []\n",
    "Rsqadj = []\n",
    "\n",
    "for vr in vars:\n",
    "    for nm in names:\n",
    "        if nm == 'Delfzijl':\n",
    "            if vr != 'z0':\n",
    "                continue\n",
    "\n",
    "        data = df[df['naam'] == nm]\n",
    "        res = gf.fit_with_uncert(\n",
    "            mdl.model3,\n",
    "            data['year'],\n",
    "            data[vr]\n",
    "        )\n",
    "\n",
    "        p = res[0]\n",
    "\n",
    "        namestore.append(nm)\n",
    "        varstore.append(vr)\n",
    "        modelstore.append('model3')\n",
    "        intercept.append(p[0])\n",
    "        slope.append(p[1])\n",
    "        #acceleration.append(p[2])\n",
    "        A_885.append(np.sqrt(p[2] ** 2 + p[3] ** 2))\n",
    "        A_1861.append(np.sqrt(p[4] ** 2 + p[5] ** 2))\n",
    "        Rsqadj.append(res[5])\n",
    "        \n",
    "\n",
    "tmp['name'] = namestore\n",
    "tmp['var'] = varstore\n",
    "tmp['model'] = modelstore\n",
    "tmp['intercept'] = intercept\n",
    "tmp['slope'] = slope\n",
    "#tmp['acceleration'] = acceleration\n",
    "tmp['A_885'] = A_885\n",
    "tmp['A_1861'] = A_1861\n",
    "tmp['Rsqadj'] = Rsqadj\n",
    "\n",
    "param = pd.concat([param, tmp])"
   ]
  },
  {
   "cell_type": "code",
   "execution_count": 16,
   "metadata": {},
   "outputs": [],
   "source": [
    "tmp = pd.DataFrame()\n",
    "\n",
    "namestore = []\n",
    "varstore = []\n",
    "modelstore = []\n",
    "intercept = []\n",
    "slope = []\n",
    "acceleration = []\n",
    "A_885 = []\n",
    "A_1861 = []\n",
    "Rsqadj = []\n",
    "\n",
    "for vr in vars:\n",
    "    for nm in names:\n",
    "        if nm == 'Delfzijl':\n",
    "            if vr != 'z0':\n",
    "                continue\n",
    "\n",
    "        data = df[df['naam'] == nm]\n",
    "        res = gf.fit_with_uncert(\n",
    "            mdl.model4,\n",
    "            data['year'],\n",
    "            data[vr]\n",
    "        )\n",
    "\n",
    "        p = res[0]\n",
    "\n",
    "        namestore.append(nm)\n",
    "        varstore.append(vr)\n",
    "        modelstore.append('model4')\n",
    "        intercept.append(p[0])\n",
    "        slope.append(p[1])\n",
    "        acceleration.append(p[2])\n",
    "        A_885.append(np.sqrt(p[2] ** 2 + p[3] ** 2))\n",
    "        A_1861.append(np.sqrt(p[4] ** 2 + p[5] ** 2))\n",
    "        Rsqadj.append(res[5])\n",
    "        \n",
    "\n",
    "tmp['name'] = namestore\n",
    "tmp['var'] = varstore\n",
    "tmp['model'] = modelstore\n",
    "tmp['intercept'] = intercept\n",
    "tmp['slope'] = slope\n",
    "tmp['acceleration'] = acceleration\n",
    "tmp['A_885'] = A_885\n",
    "tmp['A_1861'] = A_1861\n",
    "tmp['Rsqadj'] = Rsqadj\n",
    "\n",
    "param = pd.concat([param, tmp])"
   ]
  },
  {
   "cell_type": "code",
   "execution_count": 17,
   "metadata": {},
   "outputs": [],
   "source": [
    "# Set units (length mm and time centuries)\n",
    "param['intercept'] = (1000 * param['intercept']).round()\n",
    "param['slope'] = (1e5 * param['slope']).round()\n",
    "param['acceleration'] = (1e7 * param['acceleration']).round()\n",
    "param['A_885'] = (1e3 * param['A_885']).round()\n",
    "param['A_1861'] = (1e3 * param['A_1861']).round()\n",
    "param['Rsqadj'] = (1e2 * param['Rsqadj']).round()"
   ]
  },
  {
   "cell_type": "code",
   "execution_count": 18,
   "metadata": {},
   "outputs": [],
   "source": [
    "param.sort_values(by = ['name', 'model'], inplace = True)"
   ]
  },
  {
   "cell_type": "code",
   "execution_count": 19,
   "metadata": {},
   "outputs": [],
   "source": [
    "param[param['var'] == 'z0'].to_excel(r'../results/fitted_models_z0.xlsx')\n",
    "param[param['var'] == 'MHWS'].to_excel(r'../results/fitted_models_MHWS.xlsx')\n",
    "param[param['var'] == 'MLWS'].to_excel(r'../results/fitted_models_MLWS.xlsx')\n"
   ]
  },
  {
   "cell_type": "markdown",
   "metadata": {},
   "source": [
    "#### End script\n",
    "Prepared by HVEC lab, 2022"
   ]
  }
 ],
 "metadata": {
  "kernelspec": {
   "display_name": "Python 3.10.4 64-bit",
   "language": "python",
   "name": "python3"
  },
  "language_info": {
   "codemirror_mode": {
    "name": "ipython",
    "version": 3
   },
   "file_extension": ".py",
   "mimetype": "text/x-python",
   "name": "python",
   "nbconvert_exporter": "python",
   "pygments_lexer": "ipython3",
   "version": "3.10.4"
  },
  "orig_nbformat": 4,
  "vscode": {
   "interpreter": {
    "hash": "8f524c5d4fd00a57cf286a859919f18af5e86658323418c29131ee166da378b4"
   }
  }
 },
 "nbformat": 4,
 "nbformat_minor": 2
}
