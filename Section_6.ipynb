{
 "cells": [
  {
   "cell_type": "code",
   "execution_count": 1,
   "metadata": {},
   "outputs": [],
   "source": [
    "import os\n",
    "import numpy as np\n",
    "from matplotlib import pyplot as plt\n",
    "from hvec_support import sqlite as sq\n",
    "import xarray as xr"
   ]
  },
  {
   "cell_type": "code",
   "execution_count": 2,
   "metadata": {},
   "outputs": [],
   "source": [
    "def eq_nodal(lat):\n",
    "    return 0.69 * 20 * (3 * (np.sin(np.radians(lat))) ** 2 - 1)"
   ]
  },
  {
   "cell_type": "code",
   "execution_count": 3,
   "metadata": {},
   "outputs": [
    {
     "data": {
      "text/plain": [
       "14.625272627125035"
      ]
     },
     "execution_count": 3,
     "metadata": {},
     "output_type": "execute_result"
    }
   ],
   "source": [
    "eq_nodal(52.4) * 1.2"
   ]
  },
  {
   "cell_type": "code",
   "execution_count": 4,
   "metadata": {},
   "outputs": [
    {
     "data": {
      "text/plain": [
       "27.599999999999998"
      ]
     },
     "execution_count": 4,
     "metadata": {},
     "output_type": "execute_result"
    }
   ],
   "source": [
    "eq_nodal(90)"
   ]
  },
  {
   "cell_type": "code",
   "execution_count": 5,
   "metadata": {},
   "outputs": [
    {
     "data": {
      "text/plain": [
       "(0.7099644414892188, 2.5202475408954914)"
      ]
     },
     "execution_count": 5,
     "metadata": {},
     "output_type": "execute_result"
    }
   ],
   "source": [
    "# theoretical acceleration by Perigean cycle\n",
    "T = 8.85 # in years\n",
    "omega = 2 * np.pi / T\n",
    "A = 5 # mm\n",
    "a = A * omega ** 2\n",
    "omega, a"
   ]
  },
  {
   "cell_type": "code",
   "execution_count": 6,
   "metadata": {},
   "outputs": [
    {
     "data": {
      "text/plain": [
       "(0.33762414331969837, 2.2798012430472046)"
      ]
     },
     "execution_count": 6,
     "metadata": {},
     "output_type": "execute_result"
    }
   ],
   "source": [
    "# theoretical acceleration by Nodal cycle\n",
    "T = 18.61 # in years\n",
    "omega = 2 * np.pi / T\n",
    "A = 20 # mm\n",
    "a = A * omega ** 2\n",
    "omega, a"
   ]
  },
  {
   "cell_type": "code",
   "execution_count": 7,
   "metadata": {},
   "outputs": [
    {
     "data": {
      "text/plain": [
       "24000.0"
      ]
     },
     "execution_count": 7,
     "metadata": {},
     "output_type": "execute_result"
    }
   ],
   "source": [
    "0.5 * 4.8 * 100**2"
   ]
  },
  {
   "attachments": {},
   "cell_type": "markdown",
   "metadata": {},
   "source": [
    "### Wind shear stress (6.2)"
   ]
  },
  {
   "cell_type": "code",
   "execution_count": 8,
   "metadata": {},
   "outputs": [],
   "source": [
    "def CD(W10):\n",
    "    return (1e-3) * (0.8 + 0.065 * W10)"
   ]
  },
  {
   "cell_type": "code",
   "execution_count": 9,
   "metadata": {},
   "outputs": [],
   "source": [
    "rho_a = 1.29\n",
    "\n",
    "def tau_wind(W10):\n",
    "    return rho_a * CD(W10) * W10**2"
   ]
  },
  {
   "cell_type": "code",
   "execution_count": 10,
   "metadata": {},
   "outputs": [],
   "source": [
    "W10 = np.linspace(0, 30, 1000)"
   ]
  },
  {
   "cell_type": "code",
   "execution_count": 11,
   "metadata": {},
   "outputs": [
    {
     "name": "stderr",
     "output_type": "stream",
     "text": [
      "C:\\Users\\Hessel Voortman\\AppData\\Local\\Temp\\ipykernel_9664\\1688970581.py:1: RuntimeWarning: invalid value encountered in divide\n",
      "  plt.plot(W10, tau_wind(W10) / (rho_a * 0.8e-3 * W10**2))\n"
     ]
    },
    {
     "data": {
      "text/plain": [
       "[<matplotlib.lines.Line2D at 0x1e47fe65ad0>]"
      ]
     },
     "execution_count": 11,
     "metadata": {},
     "output_type": "execute_result"
    },
    {
     "data": {
      "image/png": "[encoded data removed]",
      "text/plain": [
       "<Figure size 640x480 with 1 Axes>"
      ]
     },
     "metadata": {},
     "output_type": "display_data"
    }
   ],
   "source": [
    "plt.plot(W10, tau_wind(W10) / (rho_a * 0.8e-3 * W10**2))"
   ]
  },
  {
   "cell_type": "code",
   "execution_count": 12,
   "metadata": {},
   "outputs": [
    {
     "name": "stdout",
     "output_type": "stream",
     "text": [
      "Help on module hvec_support.sqlite in hvec_support:\n",
      "\n",
      "NAME\n",
      "    hvec_support.sqlite - Module containing functions supporting the use of sqlite\n",
      "\n",
      "FUNCTIONS\n",
      "    connect_verbose(conn_str, *args, **kwargs)\n",
      "        Convenience method. Connect existing database and show available tables.\n",
      "        Verbose version of sq.connect\n",
      "        \n",
      "        Args:\n",
      "            conn_str, string: connection string (file name with path)\n",
      "        \n",
      "        Returns:\n",
      "            cnxn, connection object: database connector\n",
      "    \n",
      "    datetime_range(start, end, delta)\n",
      "        H.G. Voortman; 15-5-2020\n",
      "        \n",
      "        Taken from \n",
      "        https://stackoverflow.com/questions/10688006/generate-a-list-of-datetimes-between-an-interval\n",
      "        ===============================================================================\n",
      "        Modified to exporting an array of datetime\n",
      "    \n",
      "    db_to_csv(cnxn, **kwargs)\n",
      "        Copy all tables in a database to csv\n",
      "        \n",
      "        Args:\n",
      "            cnxn: database connection\n",
      "    \n",
      "    getColumnList(cnxn, table)\n",
      "        Get list of columns in a specified table\n",
      "    \n",
      "    getTableList(cnxn)\n",
      "        Get list of tables in a database.\n",
      "        Input is a database connection object made with sqlite3\n",
      "    \n",
      "    initialise(name, replace=True, **kwargs)\n",
      "        Initialise a database. If an old version exists, it is deleted.\n",
      "        Subsequently the database connection is opened and returned.\n",
      "        \n",
      "        The function assumes an environment variable \"DATAPATH\" to exist,\n",
      "        containing the path to the location used to store data.\n",
      "    \n",
      "    prepare_logLine(entry)\n",
      "        Store log information on current download action to\n",
      "        a dataframe.\n",
      "        \n",
      "        Parameters\n",
      "        ------\n",
      "        entry: string with log info\n",
      "        cnt: number of stored data points\n",
      "    \n",
      "    readData(settings, **kwargs)\n",
      "        Read time series from database.\n",
      "        \n",
      "        Parameters\n",
      "        ----------\n",
      "        settings: dictionary with at least the fields 'file' and 'dataTable'\n",
      "    \n",
      "    remove_doubles(cnxn, table, columns)\n",
      "        Remove double entries in specified table\n",
      "        and columns.\n",
      "        \n",
      "        Args:\n",
      "            cnxn, object: database connection\n",
      "            table, string: target table\n",
      "            columns, list: columns for which doubles are to be avoided\n",
      "    \n",
      "    store_data(entity, data, log, **kwargs)\n",
      "        Storing data to the default HVEC data infrastructure\n",
      "    \n",
      "    store_with_column_check(df, table, cnxn, **kwargs)\n",
      "        1. Get columns in the database\n",
      "        2. Compare to columns in the results dataframe\n",
      "        3. Add columns if necessary\n",
      "        4. Store dataframe to database\n",
      "    \n",
      "    table_exists(table, cnxn)\n",
      "        Verify the existence of a table in a database\n",
      "        \n",
      "        Args:\n",
      "            table: string with table name\n",
      "            cnxn: database connection\n",
      "        Out:\n",
      "            Boolean\n",
      "    \n",
      "    table_to_csv(name, cnxn, **kwargs)\n",
      "        Integral export of selected table to csv\n",
      "    \n",
      "    write_log(entry, cnxn)\n",
      "        Update log in database.\n",
      "        \n",
      "        info is a dictionary with log data. Solved in this way, the log info is flexible.\n",
      "\n",
      "FILE\n",
      "    s:\\jchs_sea_level\\.venv\\lib\\site-packages\\hvec_support\\sqlite.py\n",
      "\n",
      "\n"
     ]
    }
   ],
   "source": [
    "help(sq)"
   ]
  },
  {
   "cell_type": "code",
   "execution_count": 13,
   "metadata": {},
   "outputs": [],
   "source": [
    "path = os.getenv('DATAPATH')"
   ]
  },
  {
   "cell_type": "code",
   "execution_count": null,
   "metadata": {},
   "outputs": [],
   "source": []
  }
 ],
 "metadata": {
  "kernelspec": {
   "display_name": ".venv",
   "language": "python",
   "name": "python3"
  },
  "language_info": {
   "codemirror_mode": {
    "name": "ipython",
    "version": 3
   },
   "file_extension": ".py",
   "mimetype": "text/x-python",
   "name": "python",
   "nbconvert_exporter": "python",
   "pygments_lexer": "ipython3",
   "version": "3.11.3"
  },
  "orig_nbformat": 4
 },
 "nbformat": 4,
 "nbformat_minor": 2
}
