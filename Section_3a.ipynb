{
 "cells": [
  {
   "attachments": {},
   "cell_type": "markdown",
   "metadata": {},
   "source": [
    "<figure>\n",
    "  <IMG SRC=\"Logo.png\"  WIDTH=150 ALIGN=\"right\">\n",
    "</figure>\n",
    "\n",
    "## Projections of mean sea level and tides<br>\n",
    "### Paper in Journal of Coastal and Hydraulic Structures\n",
    "<b>Prepared by: H.G. Voortman</b>\n"
   ]
  },
  {
   "attachments": {},
   "cell_type": "markdown",
   "metadata": {},
   "source": [
    "<figure>\n",
    "    <IMG SRC=\"https://www.python.org/static/community_logos/python-powered-w-200x80.png\"  WIDTH=100 ALIGN=\"right\">\n",
    "</figure>\n",
    "\n",
    "#### Description\n",
    "- Analyses described in section 3 of the paper"
   ]
  },
  {
   "attachments": {},
   "cell_type": "markdown",
   "metadata": {},
   "source": [
    "#### Packages"
   ]
  },
  {
   "cell_type": "code",
   "execution_count": 42,
   "metadata": {},
   "outputs": [],
   "source": [
    "# General packages\n",
    "import os\n",
    "import copy as cp\n",
    "import sqlite3 as sq\n",
    "import pandas as pd\n",
    "import numpy as np\n",
    "import hvec_tide as tide\n",
    "from matplotlib import pyplot as plt\n",
    "\n",
    "# Company packages\n",
    "from hvec_support import sqlite as hvsq\n",
    "import hvec_tide as tide\n",
    "\n",
    "# Project package\n",
    "from utils import names\n"
   ]
  },
  {
   "cell_type": "code",
   "execution_count": 43,
   "metadata": {},
   "outputs": [
    {
     "data": {
      "text/plain": [
       "'3.4.0'"
      ]
     },
     "execution_count": 43,
     "metadata": {},
     "output_type": "execute_result"
    }
   ],
   "source": [
    "tide.__version__"
   ]
  },
  {
   "attachments": {},
   "cell_type": "markdown",
   "metadata": {},
   "source": [
    "#### Import data"
   ]
  },
  {
   "cell_type": "code",
   "execution_count": 44,
   "metadata": {},
   "outputs": [
    {
     "name": "stdout",
     "output_type": "stream",
     "text": [
      "The database  RWS_data.db  is opened.\n",
      "This database contains the following tables: \n",
      "                 name\n",
      "0       RWS_Waterinfo\n",
      "1  Logboek_databeheer\n",
      "2        Download_log\n"
     ]
    }
   ],
   "source": [
    "os.chdir(os.getenv('DATAPATH'))\n",
    "cnxn = hvsq.connect_verbose(r'RWS_data.db', detect_types = True)"
   ]
  },
  {
   "cell_type": "code",
   "execution_count": 45,
   "metadata": {},
   "outputs": [],
   "source": [
    "sql = 'SELECT DISTINCT(naam) FROM RWS_Waterinfo'\n",
    "names = pd.read_sql(sql, cnxn)"
   ]
  },
  {
   "cell_type": "code",
   "execution_count": 46,
   "metadata": {},
   "outputs": [
    {
     "data": {
      "text/html": [
       "<div>\n",
       "<style scoped>\n",
       "    .dataframe tbody tr th:only-of-type {\n",
       "        vertical-align: middle;\n",
       "    }\n",
       "\n",
       "    .dataframe tbody tr th {\n",
       "        vertical-align: top;\n",
       "    }\n",
       "\n",
       "    .dataframe thead th {\n",
       "        text-align: right;\n",
       "    }\n",
       "</style>\n",
       "<table border=\"1\" class=\"dataframe\">\n",
       "  <thead>\n",
       "    <tr style=\"text-align: right;\">\n",
       "      <th></th>\n",
       "      <th>naam</th>\n",
       "    </tr>\n",
       "  </thead>\n",
       "  <tbody>\n",
       "    <tr>\n",
       "      <th>8</th>\n",
       "      <td>IJmuiden Noordersluis O</td>\n",
       "    </tr>\n",
       "    <tr>\n",
       "      <th>9</th>\n",
       "      <td>IJmuiden Buitenhaven</td>\n",
       "    </tr>\n",
       "    <tr>\n",
       "      <th>10</th>\n",
       "      <td>IJmuiden Noordersluis W</td>\n",
       "    </tr>\n",
       "    <tr>\n",
       "      <th>11</th>\n",
       "      <td>IJmuiden buitenhaven</td>\n",
       "    </tr>\n",
       "    <tr>\n",
       "      <th>12</th>\n",
       "      <td>IJmuiden stroommeetpaal</td>\n",
       "    </tr>\n",
       "    <tr>\n",
       "      <th>13</th>\n",
       "      <td>IJmuiden Noordersluis</td>\n",
       "    </tr>\n",
       "    <tr>\n",
       "      <th>14</th>\n",
       "      <td>IJmuiden binnen</td>\n",
       "    </tr>\n",
       "    <tr>\n",
       "      <th>15</th>\n",
       "      <td>IJmuiden zuidelijk havenhoofd</td>\n",
       "    </tr>\n",
       "    <tr>\n",
       "      <th>16</th>\n",
       "      <td>IJmuiden semafoor</td>\n",
       "    </tr>\n",
       "    <tr>\n",
       "      <th>39</th>\n",
       "      <td>IJmuiden Zuid havenhoofd</td>\n",
       "    </tr>\n",
       "    <tr>\n",
       "      <th>40</th>\n",
       "      <td>IJmuiden (kilometer 2)</td>\n",
       "    </tr>\n",
       "    <tr>\n",
       "      <th>41</th>\n",
       "      <td>IJmuiden T1, Noordzeekanaal tijdelijk voor IJm...</td>\n",
       "    </tr>\n",
       "  </tbody>\n",
       "</table>\n",
       "</div>"
      ],
      "text/plain": [
       "                                                 naam\n",
       "8                             IJmuiden Noordersluis O\n",
       "9                                IJmuiden Buitenhaven\n",
       "10                            IJmuiden Noordersluis W\n",
       "11                               IJmuiden buitenhaven\n",
       "12                            IJmuiden stroommeetpaal\n",
       "13                              IJmuiden Noordersluis\n",
       "14                                    IJmuiden binnen\n",
       "15                      IJmuiden zuidelijk havenhoofd\n",
       "16                                  IJmuiden semafoor\n",
       "39                           IJmuiden Zuid havenhoofd\n",
       "40                             IJmuiden (kilometer 2)\n",
       "41  IJmuiden T1, Noordzeekanaal tijdelijk voor IJm..."
      ]
     },
     "execution_count": 46,
     "metadata": {},
     "output_type": "execute_result"
    }
   ],
   "source": [
    "names[names['naam'].str.contains('muid')]"
   ]
  },
  {
   "cell_type": "code",
   "execution_count": 47,
   "metadata": {},
   "outputs": [],
   "source": [
    "sql = (\n",
    "    'SELECT * FROM RWS_Waterinfo WHERE '\n",
    "    'naam IN (\"Harlingen\", \"Hoek van Holland\", \"IJmuiden Noordersluis\", \"Den Helder\", \"Harlingen\", \"Delfzijl\", \"Vlissingen\") '\n",
    "    'AND year IN (2020) '\n",
    "    )\n",
    "df = pd.read_sql(sql, cnxn)"
   ]
  },
  {
   "cell_type": "code",
   "execution_count": 48,
   "metadata": {},
   "outputs": [],
   "source": [
    "settings = {\n",
    "    'nameColumn': 'naam'\n",
    "    , 'timeColumn': 'tijd'\n",
    "    , 'levelColumn': 'waarde'\n",
    "}"
   ]
  },
  {
   "cell_type": "code",
   "execution_count": 49,
   "metadata": {},
   "outputs": [],
   "source": [
    "coef = pd.DataFrame(df.groupby(['naam', 'year']).apply(lambda x: tide.analysers.select_constituents(x, latitude = 52, settings = settings, thr = 90))).reset_index()"
   ]
  },
  {
   "cell_type": "code",
   "execution_count": 50,
   "metadata": {},
   "outputs": [],
   "source": [
    "coef.rename(\n",
    "    columns = {0: 'constit'}, inplace = True\n",
    ")"
   ]
  },
  {
   "cell_type": "code",
   "execution_count": 51,
   "metadata": {},
   "outputs": [
    {
     "data": {
      "text/html": [
       "<div>\n",
       "<style scoped>\n",
       "    .dataframe tbody tr th:only-of-type {\n",
       "        vertical-align: middle;\n",
       "    }\n",
       "\n",
       "    .dataframe tbody tr th {\n",
       "        vertical-align: top;\n",
       "    }\n",
       "\n",
       "    .dataframe thead th {\n",
       "        text-align: right;\n",
       "    }\n",
       "</style>\n",
       "<table border=\"1\" class=\"dataframe\">\n",
       "  <thead>\n",
       "    <tr style=\"text-align: right;\">\n",
       "      <th></th>\n",
       "      <th>naam</th>\n",
       "      <th>year</th>\n",
       "      <th>constit</th>\n",
       "    </tr>\n",
       "  </thead>\n",
       "  <tbody>\n",
       "    <tr>\n",
       "      <th>0</th>\n",
       "      <td>Delfzijl</td>\n",
       "      <td>2020</td>\n",
       "      <td>[M2, S2]</td>\n",
       "    </tr>\n",
       "    <tr>\n",
       "      <th>1</th>\n",
       "      <td>Den Helder</td>\n",
       "      <td>2020</td>\n",
       "      <td>[M2, S2, M4, SA, N2, O1]</td>\n",
       "    </tr>\n",
       "    <tr>\n",
       "      <th>2</th>\n",
       "      <td>Harlingen</td>\n",
       "      <td>2020</td>\n",
       "      <td>[M2, S2, N2, SA]</td>\n",
       "    </tr>\n",
       "    <tr>\n",
       "      <th>3</th>\n",
       "      <td>Hoek van Holland</td>\n",
       "      <td>2020</td>\n",
       "      <td>[M2, S2, M4, N2]</td>\n",
       "    </tr>\n",
       "    <tr>\n",
       "      <th>4</th>\n",
       "      <td>IJmuiden Noordersluis</td>\n",
       "      <td>2020</td>\n",
       "      <td>[M2, M4, S2, MS4, O1, N2]</td>\n",
       "    </tr>\n",
       "    <tr>\n",
       "      <th>5</th>\n",
       "      <td>Vlissingen</td>\n",
       "      <td>2020</td>\n",
       "      <td>[M2]</td>\n",
       "    </tr>\n",
       "  </tbody>\n",
       "</table>\n",
       "</div>"
      ],
      "text/plain": [
       "                    naam  year                    constit\n",
       "0               Delfzijl  2020                   [M2, S2]\n",
       "1             Den Helder  2020   [M2, S2, M4, SA, N2, O1]\n",
       "2              Harlingen  2020           [M2, S2, N2, SA]\n",
       "3       Hoek van Holland  2020           [M2, S2, M4, N2]\n",
       "4  IJmuiden Noordersluis  2020  [M2, M4, S2, MS4, O1, N2]\n",
       "5             Vlissingen  2020                       [M2]"
      ]
     },
     "execution_count": 51,
     "metadata": {},
     "output_type": "execute_result"
    }
   ],
   "source": [
    "coef"
   ]
  },
  {
   "attachments": {},
   "cell_type": "markdown",
   "metadata": {},
   "source": [
    "#### End script\n",
    "Prepared by HVEC lab, 2022"
   ]
  }
 ],
 "metadata": {
  "kernelspec": {
   "display_name": "Python 3.10.8 64-bit",
   "language": "python",
   "name": "python3"
  },
  "language_info": {
   "codemirror_mode": {
    "name": "ipython",
    "version": 3
   },
   "file_extension": ".py",
   "mimetype": "text/x-python",
   "name": "python",
   "nbconvert_exporter": "python",
   "pygments_lexer": "ipython3",
   "version": "3.11.3"
  },
  "orig_nbformat": 4,
  "vscode": {
   "interpreter": {
    "hash": "26de051ba29f2982a8de78e945f0abaf191376122a1563185a90213a26c5da77"
   }
  }
 },
 "nbformat": 4,
 "nbformat_minor": 2
}
