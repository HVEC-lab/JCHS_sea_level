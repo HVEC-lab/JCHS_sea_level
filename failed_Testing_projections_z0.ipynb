{
 "cells": [
  {
   "cell_type": "markdown",
   "metadata": {},
   "source": [
    "<figure>\n",
    "  <IMG SRC=\"Logo.png\"  WIDTH=150 ALIGN=\"right\">\n",
    "</figure>\n",
    "\n",
    "## Projections of mean sea level and tides<br>\n",
    "### Six Dutch stations\n",
    "<b>Prepared by: H.G. Voortman</b>\n"
   ]
  },
  {
   "cell_type": "markdown",
   "metadata": {},
   "source": [
    "<figure>\n",
    "    <IMG SRC=\"https://www.python.org/static/community_logos/python-powered-w-200x80.png\"  WIDTH=100 ALIGN=\"right\">\n",
    "</figure>\n",
    "\n",
    "#### Description\n",
    "- Showing examples of effects in the North Sea"
   ]
  },
  {
   "cell_type": "markdown",
   "metadata": {},
   "source": [
    "#### References\n",
    "- Provided in report"
   ]
  },
  {
   "cell_type": "markdown",
   "metadata": {},
   "source": [
    "#### Packages"
   ]
  },
  {
   "cell_type": "code",
   "execution_count": 1,
   "metadata": {},
   "outputs": [],
   "source": [
    "# General packages\n",
    "import pandas as pd\n",
    "import matplotlib.pyplot as plt\n",
    "import sqlite3 as sq\n",
    "import numpy as np\n",
    "#import scipy.signal as signal\n",
    "#import datetime as dt\n",
    "import hvec_stat.gof as gof\n",
    "import hvec_stat.general_fit as gf\n",
    "#import hvec_stat.gof as gof\n",
    "import hvec_stat.support as sup\n",
    "import models as mdl"
   ]
  },
  {
   "cell_type": "code",
   "execution_count": 2,
   "metadata": {},
   "outputs": [],
   "source": [
    "# Settings\n",
    "plt.rcParams['axes.grid'] = True\n",
    "figsize = (20, 18)"
   ]
  },
  {
   "cell_type": "markdown",
   "metadata": {},
   "source": [
    "#### Connect databases and import data"
   ]
  },
  {
   "cell_type": "markdown",
   "metadata": {},
   "source": [
    "##### Processed data Rijkswaterstaat"
   ]
  },
  {
   "cell_type": "code",
   "execution_count": 3,
   "metadata": {},
   "outputs": [],
   "source": [
    "# Connect database\n",
    "conn_str = os.getenv('DATAPATH') + 'RWS_processed.db'\n",
    "cnxn = sq.connect(conn_str, detect_types = True)"
   ]
  },
  {
   "cell_type": "code",
   "execution_count": 4,
   "metadata": {},
   "outputs": [
    {
     "data": {
      "text/html": [
       "<div>\n",
       "<style scoped>\n",
       "    .dataframe tbody tr th:only-of-type {\n",
       "        vertical-align: middle;\n",
       "    }\n",
       "\n",
       "    .dataframe tbody tr th {\n",
       "        vertical-align: top;\n",
       "    }\n",
       "\n",
       "    .dataframe thead th {\n",
       "        text-align: right;\n",
       "    }\n",
       "</style>\n",
       "<table border=\"1\" class=\"dataframe\">\n",
       "  <thead>\n",
       "    <tr style=\"text-align: right;\">\n",
       "      <th></th>\n",
       "      <th>type</th>\n",
       "      <th>name</th>\n",
       "      <th>tbl_name</th>\n",
       "      <th>rootpage</th>\n",
       "      <th>sql</th>\n",
       "    </tr>\n",
       "  </thead>\n",
       "  <tbody>\n",
       "    <tr>\n",
       "      <th>0</th>\n",
       "      <td>table</td>\n",
       "      <td>const_yr</td>\n",
       "      <td>const_yr</td>\n",
       "      <td>2</td>\n",
       "      <td>CREATE TABLE \"const_yr\" (\\n\"naam\" TEXT,\\n  \"le...</td>\n",
       "    </tr>\n",
       "    <tr>\n",
       "      <th>1</th>\n",
       "      <td>index</td>\n",
       "      <td>ix_const_yr_naam_level_1</td>\n",
       "      <td>const_yr</td>\n",
       "      <td>3</td>\n",
       "      <td>CREATE INDEX \"ix_const_yr_naam_level_1\"ON \"con...</td>\n",
       "    </tr>\n",
       "  </tbody>\n",
       "</table>\n",
       "</div>"
      ],
      "text/plain": [
       "    type                      name  tbl_name  rootpage  \\\n",
       "0  table                  const_yr  const_yr         2   \n",
       "1  index  ix_const_yr_naam_level_1  const_yr         3   \n",
       "\n",
       "                                                 sql  \n",
       "0  CREATE TABLE \"const_yr\" (\\n\"naam\" TEXT,\\n  \"le...  \n",
       "1  CREATE INDEX \"ix_const_yr_naam_level_1\"ON \"con...  "
      ]
     },
     "execution_count": 4,
     "metadata": {},
     "output_type": "execute_result"
    }
   ],
   "source": [
    "pd.read_sql('SELECT * FROM sqlite_master', cnxn)"
   ]
  },
  {
   "cell_type": "code",
   "execution_count": 5,
   "metadata": {},
   "outputs": [],
   "source": [
    "# Read table with observed water levels; complete years only\n",
    "sql = (\n",
    "    \"SELECT * \"\n",
    "    \"FROM 'const_yr' \"\n",
    "    \"WHERE naam IN ('Delfzijl', 'Harlingen', \"\n",
    "    \"'Den Helder', 'IJmuiden',  \"\n",
    "    \"'Hoek van Holland', 'Vlissingen') \"\n",
    "    \"AND (count>650) \"\n",
    "    #\"AND set IN ('Ftested3') \"\n",
    ")\n",
    "df = pd.read_sql(sql, cnxn) #.groupby('YEAR').mean()"
   ]
  },
  {
   "cell_type": "code",
   "execution_count": 6,
   "metadata": {},
   "outputs": [],
   "source": [
    "cnxn.close()"
   ]
  },
  {
   "cell_type": "code",
   "execution_count": 7,
   "metadata": {},
   "outputs": [
    {
     "data": {
      "text/plain": [
       "Index(['naam', 'level_1', 'z0', 'zmean', 'count', 'M2', 'S2', 'Rsq_adj',\n",
       "       'MHWS', 'MLWS', 'MHWN', 'MLWN', 'year', 'year_start', 'set', 'M4', 'O1',\n",
       "       'K2', 'K1', 'P1', 'N2', 'M6', 'MU2', 'L2', '2MS6', 'MS4', 'NU2', 'SA'],\n",
       "      dtype='object')"
      ]
     },
     "execution_count": 7,
     "metadata": {},
     "output_type": "execute_result"
    }
   ],
   "source": [
    "df.columns = df.columns.str.replace('_ampl', '')\n",
    "df.columns"
   ]
  },
  {
   "cell_type": "code",
   "execution_count": 8,
   "metadata": {},
   "outputs": [],
   "source": [
    "tsplit = 2005\n",
    "tstart = 1945\n",
    "#test = df[df['year'].between(tsplit + 1, 2021)]\n",
    "#df = df[df['year'].between(1945, tsplit)]"
   ]
  },
  {
   "cell_type": "code",
   "execution_count": 9,
   "metadata": {},
   "outputs": [],
   "source": [
    "names = [\n",
    "    'Delfzijl',\n",
    "    'Harlingen',\n",
    "    'Den Helder',\n",
    "    'IJmuiden',\n",
    "    'Hoek van Holland',\n",
    "    'Vlissingen'\n",
    "]"
   ]
  },
  {
   "cell_type": "code",
   "execution_count": 10,
   "metadata": {},
   "outputs": [],
   "source": [
    "df = df[df['set'] == 'Ftested3']\n",
    "#test = test[test['set'] == 'Ftested3']"
   ]
  },
  {
   "cell_type": "markdown",
   "metadata": {},
   "source": [
    "#### Empirical models"
   ]
  },
  {
   "cell_type": "code",
   "execution_count": 11,
   "metadata": {},
   "outputs": [],
   "source": [
    "model_list = [\n",
    "    mdl.model1,\n",
    "    mdl.model2,\n",
    "    mdl.model3,\n",
    "    #mdl.model3a,\n",
    "    #mdl.model3b,\n",
    "    mdl.model4,\n",
    "    #mdl.model5\n",
    "]"
   ]
  },
  {
   "cell_type": "code",
   "execution_count": 12,
   "metadata": {},
   "outputs": [],
   "source": [
    "def get_Rsq_and_Ftest(\n",
    "    f, df, method = 'Bence'):\n",
    "\n",
    "    # Separate training and testing data\n",
    "    test = df[df['year'].between(tsplit + 1, 2021)]\n",
    "    df = df[df['year'].between(tstart, tsplit)]\n",
    "    \n",
    "    p, _, E_x, _, _, ref = gf.fit_with_uncert(\n",
    "        f, df['year'], df['z0'], method)\n",
    "\n",
    "    # Create model data for testing period\n",
    "    ymodel = gf.prediction(md, test['year'], p, E_x)\n",
    "\n",
    "    #plt.plot(df.year, df['z0'], 'rx')\n",
    "    #plt.plot(test.year, test.z0, 'ko')\n",
    "    #gf.plot_general_fit(md, df['year'], df['year'], df['z0'], method = 'Bence')\n",
    "\n",
    "    xgr = np.linspace(1945, 2022, 1000)\n",
    "    #plt.plot(xgr, gf.prediction(md, xgr, p, E_x))\n",
    "\n",
    "    Rsq = gof.Rsq_adj(test['z0'], ymodel, k = len(p), method = method)\n",
    "    p_F = gof.Ftest_classic(test['z0'], ymodel, k = len(p), method = method)['p']\n",
    "\n",
    "    return p_F, Rsq    \n",
    "    # Test againts test data"
   ]
  },
  {
   "cell_type": "code",
   "execution_count": 13,
   "metadata": {},
   "outputs": [
    {
     "name": "stderr",
     "output_type": "stream",
     "text": [
      "c:\\users\\hessel voortman\\onedrive - hessel voortman ec bv\\packages\\hvec_stat\\hvec_stat\\bence_method.py:54: UserWarning: Negative autocorrelation found. Correlation set to 0\n",
      "  warnings.warn('Negative autocorrelation found. Correlation set to 0')\n",
      "c:\\users\\hessel voortman\\onedrive - hessel voortman ec bv\\packages\\hvec_stat\\hvec_stat\\bence_method.py:54: UserWarning: Negative autocorrelation found. Correlation set to 0\n",
      "  warnings.warn('Negative autocorrelation found. Correlation set to 0')\n",
      "c:\\users\\hessel voortman\\onedrive - hessel voortman ec bv\\packages\\hvec_stat\\hvec_stat\\bence_method.py:54: UserWarning: Negative autocorrelation found. Correlation set to 0\n",
      "  warnings.warn('Negative autocorrelation found. Correlation set to 0')\n",
      "c:\\users\\hessel voortman\\onedrive - hessel voortman ec bv\\packages\\hvec_stat\\hvec_stat\\bence_method.py:54: UserWarning: Negative autocorrelation found. Correlation set to 0\n",
      "  warnings.warn('Negative autocorrelation found. Correlation set to 0')\n"
     ]
    },
    {
     "data": {
      "text/html": [
       "<div>\n",
       "<style scoped>\n",
       "    .dataframe tbody tr th:only-of-type {\n",
       "        vertical-align: middle;\n",
       "    }\n",
       "\n",
       "    .dataframe tbody tr th {\n",
       "        vertical-align: top;\n",
       "    }\n",
       "\n",
       "    .dataframe thead tr th {\n",
       "        text-align: left;\n",
       "    }\n",
       "\n",
       "    .dataframe thead tr:last-of-type th {\n",
       "        text-align: right;\n",
       "    }\n",
       "</style>\n",
       "<table border=\"1\" class=\"dataframe\">\n",
       "  <thead>\n",
       "    <tr>\n",
       "      <th></th>\n",
       "      <th>p</th>\n",
       "      <th>Rsq_adj</th>\n",
       "      <th>model</th>\n",
       "    </tr>\n",
       "    <tr>\n",
       "      <th>naam</th>\n",
       "      <th></th>\n",
       "      <th></th>\n",
       "      <th></th>\n",
       "    </tr>\n",
       "  </thead>\n",
       "  <tbody>\n",
       "    <tr>\n",
       "      <th>Delfzijl</th>\n",
       "      <td>0.677717</td>\n",
       "      <td>-0.245498</td>\n",
       "      <td>model1</td>\n",
       "    </tr>\n",
       "    <tr>\n",
       "      <th>Delfzijl</th>\n",
       "      <td>0.732303</td>\n",
       "      <td>-0.229350</td>\n",
       "      <td>model3</td>\n",
       "    </tr>\n",
       "    <tr>\n",
       "      <th>Delfzijl</th>\n",
       "      <td>0.485658</td>\n",
       "      <td>0.006862</td>\n",
       "      <td>model4</td>\n",
       "    </tr>\n",
       "    <tr>\n",
       "      <th>Delfzijl</th>\n",
       "      <td>0.294474</td>\n",
       "      <td>0.176703</td>\n",
       "      <td>model2</td>\n",
       "    </tr>\n",
       "    <tr>\n",
       "      <th>Den Helder</th>\n",
       "      <td>0.175401</td>\n",
       "      <td>0.276857</td>\n",
       "      <td>model3</td>\n",
       "    </tr>\n",
       "    <tr>\n",
       "      <th>Den Helder</th>\n",
       "      <td>1.000000</td>\n",
       "      <td>-0.476722</td>\n",
       "      <td>model2</td>\n",
       "    </tr>\n",
       "    <tr>\n",
       "      <th>Den Helder</th>\n",
       "      <td>0.279975</td>\n",
       "      <td>0.199614</td>\n",
       "      <td>model4</td>\n",
       "    </tr>\n",
       "    <tr>\n",
       "      <th>Den Helder</th>\n",
       "      <td>0.352714</td>\n",
       "      <td>0.044655</td>\n",
       "      <td>model1</td>\n",
       "    </tr>\n",
       "    <tr>\n",
       "      <th>Harlingen</th>\n",
       "      <td>1.000000</td>\n",
       "      <td>-1.494381</td>\n",
       "      <td>model2</td>\n",
       "    </tr>\n",
       "    <tr>\n",
       "      <th>Harlingen</th>\n",
       "      <td>1.000000</td>\n",
       "      <td>-1.105260</td>\n",
       "      <td>model1</td>\n",
       "    </tr>\n",
       "    <tr>\n",
       "      <th>Harlingen</th>\n",
       "      <td>1.000000</td>\n",
       "      <td>-1.883562</td>\n",
       "      <td>model3</td>\n",
       "    </tr>\n",
       "    <tr>\n",
       "      <th>Harlingen</th>\n",
       "      <td>1.000000</td>\n",
       "      <td>-4.821734</td>\n",
       "      <td>model4</td>\n",
       "    </tr>\n",
       "    <tr>\n",
       "      <th>Hoek van Holland</th>\n",
       "      <td>1.000000</td>\n",
       "      <td>-0.354237</td>\n",
       "      <td>model1</td>\n",
       "    </tr>\n",
       "    <tr>\n",
       "      <th>Hoek van Holland</th>\n",
       "      <td>1.000000</td>\n",
       "      <td>-0.678213</td>\n",
       "      <td>model3</td>\n",
       "    </tr>\n",
       "    <tr>\n",
       "      <th>Hoek van Holland</th>\n",
       "      <td>1.000000</td>\n",
       "      <td>-3.969747</td>\n",
       "      <td>model4</td>\n",
       "    </tr>\n",
       "    <tr>\n",
       "      <th>Hoek van Holland</th>\n",
       "      <td>1.000000</td>\n",
       "      <td>-4.312354</td>\n",
       "      <td>model2</td>\n",
       "    </tr>\n",
       "    <tr>\n",
       "      <th>IJmuiden</th>\n",
       "      <td>0.450260</td>\n",
       "      <td>-0.022695</td>\n",
       "      <td>model1</td>\n",
       "    </tr>\n",
       "    <tr>\n",
       "      <th>IJmuiden</th>\n",
       "      <td>1.000000</td>\n",
       "      <td>-3.819777</td>\n",
       "      <td>model2</td>\n",
       "    </tr>\n",
       "    <tr>\n",
       "      <th>IJmuiden</th>\n",
       "      <td>1.000000</td>\n",
       "      <td>-2.094295</td>\n",
       "      <td>model4</td>\n",
       "    </tr>\n",
       "    <tr>\n",
       "      <th>IJmuiden</th>\n",
       "      <td>0.296936</td>\n",
       "      <td>0.151329</td>\n",
       "      <td>model3</td>\n",
       "    </tr>\n",
       "    <tr>\n",
       "      <th>Vlissingen</th>\n",
       "      <td>1.000000</td>\n",
       "      <td>-2.143725</td>\n",
       "      <td>model2</td>\n",
       "    </tr>\n",
       "    <tr>\n",
       "      <th>Vlissingen</th>\n",
       "      <td>0.290289</td>\n",
       "      <td>0.093479</td>\n",
       "      <td>model1</td>\n",
       "    </tr>\n",
       "    <tr>\n",
       "      <th>Vlissingen</th>\n",
       "      <td>0.502073</td>\n",
       "      <td>-0.017131</td>\n",
       "      <td>model3</td>\n",
       "    </tr>\n",
       "    <tr>\n",
       "      <th>Vlissingen</th>\n",
       "      <td>0.911374</td>\n",
       "      <td>-0.441413</td>\n",
       "      <td>model4</td>\n",
       "    </tr>\n",
       "  </tbody>\n",
       "</table>\n",
       "</div>"
      ],
      "text/plain": [
       "                         p   Rsq_adj   model\n",
       "naam                                        \n",
       "Delfzijl          0.677717 -0.245498  model1\n",
       "Delfzijl          0.732303 -0.229350  model3\n",
       "Delfzijl          0.485658  0.006862  model4\n",
       "Delfzijl          0.294474  0.176703  model2\n",
       "Den Helder        0.175401  0.276857  model3\n",
       "Den Helder        1.000000 -0.476722  model2\n",
       "Den Helder        0.279975  0.199614  model4\n",
       "Den Helder        0.352714  0.044655  model1\n",
       "Harlingen         1.000000 -1.494381  model2\n",
       "Harlingen         1.000000 -1.105260  model1\n",
       "Harlingen         1.000000 -1.883562  model3\n",
       "Harlingen         1.000000 -4.821734  model4\n",
       "Hoek van Holland  1.000000 -0.354237  model1\n",
       "Hoek van Holland  1.000000 -0.678213  model3\n",
       "Hoek van Holland  1.000000 -3.969747  model4\n",
       "Hoek van Holland  1.000000 -4.312354  model2\n",
       "IJmuiden          0.450260 -0.022695  model1\n",
       "IJmuiden          1.000000 -3.819777  model2\n",
       "IJmuiden          1.000000 -2.094295  model4\n",
       "IJmuiden          0.296936  0.151329  model3\n",
       "Vlissingen        1.000000 -2.143725  model2\n",
       "Vlissingen        0.290289  0.093479  model1\n",
       "Vlissingen        0.502073 -0.017131  model3\n",
       "Vlissingen        0.911374 -0.441413  model4"
      ]
     },
     "execution_count": 13,
     "metadata": {},
     "output_type": "execute_result"
    }
   ],
   "source": [
    "res = pd.DataFrame()\n",
    "\n",
    "for md in model_list:\n",
    "    #tmp = pd.DataFrame()\n",
    "    tmp = df.groupby('naam').apply(\n",
    "        lambda x: pd.Series(get_Rsq_and_Ftest(md, x, method = 'Bence')))\n",
    "    \n",
    "    tmp.columns = [['p', 'Rsq_adj']]\n",
    "    tmp['model'] = str(md.__name__)\n",
    "    res = pd.concat([res, tmp], axis = 0)\n",
    "\n",
    "res.sort_values(by = 'naam')"
   ]
  },
  {
   "cell_type": "markdown",
   "metadata": {},
   "source": [
    "#### End script\n",
    "Prepared by HVEC lab, 2022"
   ]
  }
 ],
 "metadata": {
  "kernelspec": {
   "display_name": "Python 3.10.4 64-bit",
   "language": "python",
   "name": "python3"
  },
  "language_info": {
   "codemirror_mode": {
    "name": "ipython",
    "version": 3
   },
   "file_extension": ".py",
   "mimetype": "text/x-python",
   "name": "python",
   "nbconvert_exporter": "python",
   "pygments_lexer": "ipython3",
   "version": "3.10.4"
  },
  "orig_nbformat": 4,
  "vscode": {
   "interpreter": {
    "hash": "8f524c5d4fd00a57cf286a859919f18af5e86658323418c29131ee166da378b4"
   }
  }
 },
 "nbformat": 4,
 "nbformat_minor": 2
}
