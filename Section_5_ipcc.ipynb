{
 "cells": [
  {
   "cell_type": "markdown",
   "metadata": {},
   "source": [
    "<figure>\n",
    "  <IMG SRC=\"Logo.png\"  WIDTH=150 ALIGN=\"right\">\n",
    "</figure>\n",
    "\n",
    "## Projections of mean sea level and tides<br>\n",
    "### Paper in Journal of Coastal and Hydraulic Structures\n",
    "<b>Prepared by: H.G. Voortman</b>\n"
   ]
  },
  {
   "cell_type": "markdown",
   "metadata": {},
   "source": [
    "<figure>\n",
    "    <IMG SRC=\"https://www.python.org/static/community_logos/python-powered-w-200x80.png\"  WIDTH=100 ALIGN=\"right\">\n",
    "</figure>\n",
    "\n",
    "#### Description\n",
    "- IPCC data used in section 5"
   ]
  },
  {
   "cell_type": "markdown",
   "metadata": {},
   "source": [
    "#### References\n",
    "- Provided in report"
   ]
  },
  {
   "cell_type": "markdown",
   "metadata": {},
   "source": [
    "#### Packages"
   ]
  },
  {
   "cell_type": "code",
   "execution_count": 10,
   "metadata": {},
   "outputs": [],
   "source": [
    "# General packages\n",
    "import pandas as pd\n",
    "import scipy.stats as stat\n",
    "\n",
    "# Project package\n",
    "import utils as prj"
   ]
  },
  {
   "cell_type": "code",
   "execution_count": 14,
   "metadata": {},
   "outputs": [
    {
     "data": {
      "text/plain": [
       "1.6448536269514722"
      ]
     },
     "execution_count": 14,
     "metadata": {},
     "output_type": "execute_result"
    }
   ],
   "source": [
    "# Set confidence level of interval\n",
    "k = stat.norm.ppf(0.95)\n",
    "k"
   ]
  },
  {
   "cell_type": "code",
   "execution_count": 15,
   "metadata": {},
   "outputs": [
    {
     "data": {
      "text/plain": [
       "8.085175"
      ]
     },
     "execution_count": 15,
     "metadata": {},
     "output_type": "execute_result"
    }
   ],
   "source": [
    "1.645 * 4.915"
   ]
  },
  {
   "cell_type": "markdown",
   "metadata": {},
   "source": [
    "#### Connect databases and import data"
   ]
  },
  {
   "cell_type": "code",
   "execution_count": 2,
   "metadata": {},
   "outputs": [
    {
     "data": {
      "text/html": [
       "<div>\n",
       "<style scoped>\n",
       "    .dataframe tbody tr th:only-of-type {\n",
       "        vertical-align: middle;\n",
       "    }\n",
       "\n",
       "    .dataframe tbody tr th {\n",
       "        vertical-align: top;\n",
       "    }\n",
       "\n",
       "    .dataframe thead th {\n",
       "        text-align: right;\n",
       "    }\n",
       "</style>\n",
       "<table border=\"1\" class=\"dataframe\">\n",
       "  <thead>\n",
       "    <tr style=\"text-align: right;\">\n",
       "      <th></th>\n",
       "      <th>psmsl_id</th>\n",
       "      <th>process</th>\n",
       "      <th>confidence</th>\n",
       "      <th>scenario</th>\n",
       "      <th>year</th>\n",
       "      <th>median</th>\n",
       "      <th>90%_low</th>\n",
       "      <th>90%_high</th>\n",
       "      <th>sigma</th>\n",
       "      <th>name</th>\n",
       "    </tr>\n",
       "  </thead>\n",
       "  <tbody>\n",
       "    <tr>\n",
       "      <th>0</th>\n",
       "      <td>20</td>\n",
       "      <td>totalrates</td>\n",
       "      <td>medium</td>\n",
       "      <td>ssp119</td>\n",
       "      <td>2020</td>\n",
       "      <td>3.4</td>\n",
       "      <td>-2.3</td>\n",
       "      <td>9.7</td>\n",
       "      <td>4.915916</td>\n",
       "      <td>VLISSINGEN</td>\n",
       "    </tr>\n",
       "    <tr>\n",
       "      <th>1</th>\n",
       "      <td>20</td>\n",
       "      <td>totalrates</td>\n",
       "      <td>medium</td>\n",
       "      <td>ssp126</td>\n",
       "      <td>2020</td>\n",
       "      <td>4.2</td>\n",
       "      <td>1.6</td>\n",
       "      <td>7.5</td>\n",
       "      <td>2.575004</td>\n",
       "      <td>VLISSINGEN</td>\n",
       "    </tr>\n",
       "    <tr>\n",
       "      <th>2</th>\n",
       "      <td>20</td>\n",
       "      <td>totalrates</td>\n",
       "      <td>medium</td>\n",
       "      <td>ssp245</td>\n",
       "      <td>2020</td>\n",
       "      <td>4.4</td>\n",
       "      <td>1.1</td>\n",
       "      <td>8.3</td>\n",
       "      <td>3.043186</td>\n",
       "      <td>VLISSINGEN</td>\n",
       "    </tr>\n",
       "    <tr>\n",
       "      <th>3</th>\n",
       "      <td>20</td>\n",
       "      <td>totalrates</td>\n",
       "      <td>medium</td>\n",
       "      <td>ssp370</td>\n",
       "      <td>2020</td>\n",
       "      <td>4.4</td>\n",
       "      <td>1.4</td>\n",
       "      <td>8.1</td>\n",
       "      <td>2.887125</td>\n",
       "      <td>VLISSINGEN</td>\n",
       "    </tr>\n",
       "    <tr>\n",
       "      <th>4</th>\n",
       "      <td>20</td>\n",
       "      <td>totalrates</td>\n",
       "      <td>medium</td>\n",
       "      <td>ssp585</td>\n",
       "      <td>2020</td>\n",
       "      <td>4.6</td>\n",
       "      <td>2.1</td>\n",
       "      <td>7.9</td>\n",
       "      <td>2.575004</td>\n",
       "      <td>VLISSINGEN</td>\n",
       "    </tr>\n",
       "    <tr>\n",
       "      <th>...</th>\n",
       "      <td>...</td>\n",
       "      <td>...</td>\n",
       "      <td>...</td>\n",
       "      <td>...</td>\n",
       "      <td>...</td>\n",
       "      <td>...</td>\n",
       "      <td>...</td>\n",
       "      <td>...</td>\n",
       "      <td>...</td>\n",
       "      <td>...</td>\n",
       "    </tr>\n",
       "    <tr>\n",
       "      <th>415</th>\n",
       "      <td>32</td>\n",
       "      <td>totalrates</td>\n",
       "      <td>medium</td>\n",
       "      <td>ssp119</td>\n",
       "      <td>2150</td>\n",
       "      <td>3.8</td>\n",
       "      <td>-0.2</td>\n",
       "      <td>9.2</td>\n",
       "      <td>4.213642</td>\n",
       "      <td>IJMUIDEN</td>\n",
       "    </tr>\n",
       "    <tr>\n",
       "      <th>416</th>\n",
       "      <td>32</td>\n",
       "      <td>totalrates</td>\n",
       "      <td>medium</td>\n",
       "      <td>ssp126</td>\n",
       "      <td>2150</td>\n",
       "      <td>3.8</td>\n",
       "      <td>0.2</td>\n",
       "      <td>9.6</td>\n",
       "      <td>4.525764</td>\n",
       "      <td>IJMUIDEN</td>\n",
       "    </tr>\n",
       "    <tr>\n",
       "      <th>417</th>\n",
       "      <td>32</td>\n",
       "      <td>totalrates</td>\n",
       "      <td>medium</td>\n",
       "      <td>ssp245</td>\n",
       "      <td>2150</td>\n",
       "      <td>6.7</td>\n",
       "      <td>2.6</td>\n",
       "      <td>14.0</td>\n",
       "      <td>5.696220</td>\n",
       "      <td>IJMUIDEN</td>\n",
       "    </tr>\n",
       "    <tr>\n",
       "      <th>418</th>\n",
       "      <td>32</td>\n",
       "      <td>totalrates</td>\n",
       "      <td>medium</td>\n",
       "      <td>ssp370</td>\n",
       "      <td>2150</td>\n",
       "      <td>9.2</td>\n",
       "      <td>4.2</td>\n",
       "      <td>18.1</td>\n",
       "      <td>6.944707</td>\n",
       "      <td>IJMUIDEN</td>\n",
       "    </tr>\n",
       "    <tr>\n",
       "      <th>419</th>\n",
       "      <td>32</td>\n",
       "      <td>totalrates</td>\n",
       "      <td>medium</td>\n",
       "      <td>ssp585</td>\n",
       "      <td>2150</td>\n",
       "      <td>10.2</td>\n",
       "      <td>4.2</td>\n",
       "      <td>21.0</td>\n",
       "      <td>8.427285</td>\n",
       "      <td>IJMUIDEN</td>\n",
       "    </tr>\n",
       "  </tbody>\n",
       "</table>\n",
       "<p>420 rows × 10 columns</p>\n",
       "</div>"
      ],
      "text/plain": [
       "     psmsl_id     process confidence scenario  year  median  90%_low  \\\n",
       "0          20  totalrates     medium   ssp119  2020     3.4     -2.3   \n",
       "1          20  totalrates     medium   ssp126  2020     4.2      1.6   \n",
       "2          20  totalrates     medium   ssp245  2020     4.4      1.1   \n",
       "3          20  totalrates     medium   ssp370  2020     4.4      1.4   \n",
       "4          20  totalrates     medium   ssp585  2020     4.6      2.1   \n",
       "..        ...         ...        ...      ...   ...     ...      ...   \n",
       "415        32  totalrates     medium   ssp119  2150     3.8     -0.2   \n",
       "416        32  totalrates     medium   ssp126  2150     3.8      0.2   \n",
       "417        32  totalrates     medium   ssp245  2150     6.7      2.6   \n",
       "418        32  totalrates     medium   ssp370  2150     9.2      4.2   \n",
       "419        32  totalrates     medium   ssp585  2150    10.2      4.2   \n",
       "\n",
       "     90%_high     sigma        name  \n",
       "0         9.7  4.915916  VLISSINGEN  \n",
       "1         7.5  2.575004  VLISSINGEN  \n",
       "2         8.3  3.043186  VLISSINGEN  \n",
       "3         8.1  2.887125  VLISSINGEN  \n",
       "4         7.9  2.575004  VLISSINGEN  \n",
       "..        ...       ...         ...  \n",
       "415       9.2  4.213642    IJMUIDEN  \n",
       "416       9.6  4.525764    IJMUIDEN  \n",
       "417      14.0  5.696220    IJMUIDEN  \n",
       "418      18.1  6.944707    IJMUIDEN  \n",
       "419      21.0  8.427285    IJMUIDEN  \n",
       "\n",
       "[420 rows x 10 columns]"
      ]
     },
     "execution_count": 2,
     "metadata": {},
     "output_type": "execute_result"
    }
   ],
   "source": [
    "df = prj.read_data_ipcc()\n",
    "df"
   ]
  },
  {
   "cell_type": "code",
   "execution_count": 3,
   "metadata": {},
   "outputs": [],
   "source": [
    "df = df.loc[(df['year'] == 2020) & (df['scenario'] == 'ssp126')]"
   ]
  },
  {
   "cell_type": "code",
   "execution_count": 4,
   "metadata": {},
   "outputs": [
    {
     "name": "stderr",
     "output_type": "stream",
     "text": [
      "C:\\Users\\Hessel\\AppData\\Local\\Temp\\ipykernel_2468\\1755822370.py:1: SettingWithCopyWarning: \n",
      "A value is trying to be set on a copy of a slice from a DataFrame\n",
      "\n",
      "See the caveats in the documentation: https://pandas.pydata.org/pandas-docs/stable/user_guide/indexing.html#returning-a-view-versus-a-copy\n",
      "  df.sort_values(by = 'name', inplace = True)\n",
      "C:\\Users\\Hessel\\AppData\\Local\\Temp\\ipykernel_2468\\1755822370.py:2: SettingWithCopyWarning: \n",
      "A value is trying to be set on a copy of a slice from a DataFrame\n",
      "\n",
      "See the caveats in the documentation: https://pandas.pydata.org/pandas-docs/stable/user_guide/indexing.html#returning-a-view-versus-a-copy\n",
      "  df.drop(columns = ['psmsl_id', 'process', 'confidence', 'year', 'scenario', 'sigma'], inplace = True)\n"
     ]
    }
   ],
   "source": [
    "df.sort_values(by = 'name', inplace = True)\n",
    "df.drop(columns = ['psmsl_id', 'process', 'confidence', 'year', 'scenario', 'sigma'], inplace = True)"
   ]
  },
  {
   "cell_type": "code",
   "execution_count": 5,
   "metadata": {},
   "outputs": [
    {
     "data": {
      "text/html": [
       "<div>\n",
       "<style scoped>\n",
       "    .dataframe tbody tr th:only-of-type {\n",
       "        vertical-align: middle;\n",
       "    }\n",
       "\n",
       "    .dataframe tbody tr th {\n",
       "        vertical-align: top;\n",
       "    }\n",
       "\n",
       "    .dataframe thead th {\n",
       "        text-align: right;\n",
       "    }\n",
       "</style>\n",
       "<table border=\"1\" class=\"dataframe\">\n",
       "  <thead>\n",
       "    <tr style=\"text-align: right;\">\n",
       "      <th></th>\n",
       "      <th>name</th>\n",
       "      <th>median</th>\n",
       "      <th>90%_low</th>\n",
       "      <th>90%_high</th>\n",
       "    </tr>\n",
       "  </thead>\n",
       "  <tbody>\n",
       "    <tr>\n",
       "      <th>211</th>\n",
       "      <td>Delfzijl</td>\n",
       "      <td>440.0</td>\n",
       "      <td>200.0</td>\n",
       "      <td>770.0</td>\n",
       "    </tr>\n",
       "    <tr>\n",
       "      <th>141</th>\n",
       "      <td>Den Helder</td>\n",
       "      <td>400.0</td>\n",
       "      <td>170.0</td>\n",
       "      <td>740.0</td>\n",
       "    </tr>\n",
       "    <tr>\n",
       "      <th>281</th>\n",
       "      <td>Harlingen</td>\n",
       "      <td>400.0</td>\n",
       "      <td>160.0</td>\n",
       "      <td>740.0</td>\n",
       "    </tr>\n",
       "    <tr>\n",
       "      <th>71</th>\n",
       "      <td>Hoek Van Holland</td>\n",
       "      <td>500.0</td>\n",
       "      <td>240.0</td>\n",
       "      <td>830.0</td>\n",
       "    </tr>\n",
       "    <tr>\n",
       "      <th>351</th>\n",
       "      <td>Ijmuiden</td>\n",
       "      <td>420.0</td>\n",
       "      <td>180.0</td>\n",
       "      <td>770.0</td>\n",
       "    </tr>\n",
       "    <tr>\n",
       "      <th>1</th>\n",
       "      <td>Vlissingen</td>\n",
       "      <td>420.0</td>\n",
       "      <td>160.0</td>\n",
       "      <td>750.0</td>\n",
       "    </tr>\n",
       "  </tbody>\n",
       "</table>\n",
       "</div>"
      ],
      "text/plain": [
       "                 name  median  90%_low  90%_high\n",
       "211          Delfzijl   440.0    200.0     770.0\n",
       "141        Den Helder   400.0    170.0     740.0\n",
       "281         Harlingen   400.0    160.0     740.0\n",
       "71   Hoek Van Holland   500.0    240.0     830.0\n",
       "351          Ijmuiden   420.0    180.0     770.0\n",
       "1          Vlissingen   420.0    160.0     750.0"
      ]
     },
     "execution_count": 5,
     "metadata": {},
     "output_type": "execute_result"
    }
   ],
   "source": [
    "cols = df.columns.tolist()\n",
    "cols = cols[-1:] + cols[:-1]\n",
    "df = df[cols]\n",
    "df['name'] = df['name'].str.title()\n",
    "df[['median', '90%_low', '90%_high']] = df[['median', '90%_low', '90%_high']] * 100\n",
    "df"
   ]
  },
  {
   "cell_type": "code",
   "execution_count": 6,
   "metadata": {},
   "outputs": [],
   "source": [
    "df.to_excel(r'../Results/ipcc_rates.xlsx')"
   ]
  },
  {
   "cell_type": "markdown",
   "metadata": {},
   "source": [
    "#### End script\n",
    "Prepared by HVEC lab, 2022"
   ]
  }
 ],
 "metadata": {
  "kernelspec": {
   "display_name": "Python 3.10.2 64-bit",
   "language": "python",
   "name": "python3"
  },
  "language_info": {
   "codemirror_mode": {
    "name": "ipython",
    "version": 3
   },
   "file_extension": ".py",
   "mimetype": "text/x-python",
   "name": "python",
   "nbconvert_exporter": "python",
   "pygments_lexer": "ipython3",
   "version": "3.10.2"
  },
  "orig_nbformat": 4,
  "vscode": {
   "interpreter": {
    "hash": "5ab4ab546a68da904d1ed0e3fc1b265d816812ca7f18fd5174c2960e875210e8"
   }
  }
 },
 "nbformat": 4,
 "nbformat_minor": 2
}
